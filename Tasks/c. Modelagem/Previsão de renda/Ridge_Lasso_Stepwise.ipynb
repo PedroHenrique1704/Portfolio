{
  "cells": [
    {
      "cell_type": "markdown",
      "metadata": {
        "id": "tb6uW-rO5ZbB"
      },
      "source": [
        "# EBAC - Regressão II - regressão múltipla\n",
        "\n",
        "## Tarefa I"
      ]
    },
    {
      "cell_type": "markdown",
      "metadata": {
        "id": "RoYW4B9P5ZbE"
      },
      "source": [
        "#### Previsão de renda II\n",
        "\n",
        "Vamos continuar trabalhando com a base 'previsao_de_renda.csv', que é a base do seu próximo projeto. Vamos usar os recursos que vimos até aqui nesta base.\n",
        "\n",
        "|variavel|descrição|\n",
        "|-|-|\n",
        "|data_ref                | Data de referência de coleta das variáveis |\n",
        "|index                   | Código de identificação do cliente|\n",
        "|sexo                    | Sexo do cliente|\n",
        "|posse_de_veiculo        | Indica se o cliente possui veículo|\n",
        "|posse_de_imovel         | Indica se o cliente possui imóvel|\n",
        "|qtd_filhos              | Quantidade de filhos do cliente|\n",
        "|tipo_renda              | Tipo de renda do cliente|\n",
        "|educacao                | Grau de instrução do cliente|\n",
        "|estado_civil            | Estado civil do cliente|\n",
        "|tipo_residencia         | Tipo de residência do cliente (própria, alugada etc)|\n",
        "|idade                   | Idade do cliente|\n",
        "|tempo_emprego           | Tempo no emprego atual|\n",
        "|qt_pessoas_residencia   | Quantidade de pessoas que moram na residência|\n",
        "|renda                   | Renda em reais|"
      ]
    },
    {
      "cell_type": "code",
      "execution_count": null,
      "metadata": {
        "id": "kFGd2VOX5ZbF"
      },
      "outputs": [],
      "source": [
        "import pandas as pd\n",
        "import numpy as np\n",
        "import statsmodels.api as sm\n",
        "from sklearn.model_selection import train_test_split\n",
        "from sklearn.linear_model import Ridge, Lasso\n",
        "from sklearn.metrics import r2_score\n",
        "from sklearn.preprocessing import StandardScaler, OneHotEncoder\n",
        "from sklearn.compose import ColumnTransformer\n",
        "from sklearn.pipeline import Pipeline\n",
        "from sklearn.tree import DecisionTreeRegressor\n",
        "from statsmodels.regression.linear_model import OLS\n",
        "from statsmodels.tools.tools import add_constant\n",
        "from sklearn.impute import SimpleImputer\n",
        "from patsy import dmatrices"
      ]
    },
    {
      "cell_type": "code",
      "execution_count": null,
      "metadata": {
        "id": "zAc8xqqs5ZbG"
      },
      "outputs": [],
      "source": [
        "df = pd.read_csv('previsao_de_renda.csv')\n",
        "df.fillna(value=0, inplace=True)\n"
      ]
    },
    {
      "cell_type": "code",
      "execution_count": null,
      "metadata": {
        "colab": {
          "base_uri": "https://localhost:8080/"
        },
        "id": "neIlHrDW5ZbG",
        "outputId": "89be4918-f873-4f5e-96f7-273676b087fa"
      },
      "outputs": [
        {
          "output_type": "stream",
          "name": "stdout",
          "text": [
            "<class 'pandas.core.frame.DataFrame'>\n",
            "RangeIndex: 15000 entries, 0 to 14999\n",
            "Data columns (total 15 columns):\n",
            " #   Column                 Non-Null Count  Dtype  \n",
            "---  ------                 --------------  -----  \n",
            " 0   Unnamed: 0             15000 non-null  int64  \n",
            " 1   data_ref               15000 non-null  object \n",
            " 2   id_cliente             15000 non-null  int64  \n",
            " 3   sexo                   15000 non-null  object \n",
            " 4   posse_de_veiculo       15000 non-null  bool   \n",
            " 5   posse_de_imovel        15000 non-null  bool   \n",
            " 6   qtd_filhos             15000 non-null  int64  \n",
            " 7   tipo_renda             15000 non-null  object \n",
            " 8   educacao               15000 non-null  object \n",
            " 9   estado_civil           15000 non-null  object \n",
            " 10  tipo_residencia        15000 non-null  object \n",
            " 11  idade                  15000 non-null  int64  \n",
            " 12  tempo_emprego          15000 non-null  float64\n",
            " 13  qt_pessoas_residencia  15000 non-null  float64\n",
            " 14  renda                  15000 non-null  float64\n",
            "dtypes: bool(2), float64(3), int64(4), object(6)\n",
            "memory usage: 1.5+ MB\n"
          ]
        }
      ],
      "source": [
        "df.info()"
      ]
    },
    {
      "cell_type": "markdown",
      "metadata": {
        "id": "gC5Hf0Pk5ZbH"
      },
      "source": [
        "1. Separe a base em treinamento e teste (25% para teste, 75% para treinamento).\n",
        "2. Rode uma regularização *ridge* com alpha = [0, 0.001, 0.005, 0.01, 0.05, 0.1] e avalie o $R^2$ na base de testes. Qual o melhor modelo?\n",
        "3. Faça o mesmo que no passo 2, com uma regressão *LASSO*. Qual método chega a um melhor resultado?\n",
        "4. Rode um modelo *stepwise*. Avalie o $R^2$ na vase de testes. Qual o melhor resultado?\n",
        "5. Compare os parâmetros e avalie eventuais diferenças. Qual modelo você acha o melhor de todos?\n",
        "6. Partindo dos modelos que você ajustou, tente melhorar o $R^2$ na base de testes. Use a criatividade, veja se consegue inserir alguma transformação ou combinação de variáveis.\n",
        "7. Ajuste uma árvore de regressão e veja se consegue um $R^2$ melhor com ela."
      ]
    },
    {
      "cell_type": "code",
      "execution_count": null,
      "metadata": {
        "id": "6u98GtdV5ZbI"
      },
      "outputs": [],
      "source": [
        "# 1 - Preparação dos dados\n",
        "df['log_renda'] = np.log(df['renda'])  # Transformação logarítmica para a variável dependente\n",
        "X = df.drop(columns=['renda','log_renda', 'data_ref', 'id_cliente'])  # Removendo variáveis irrelevantes\n",
        "y = df['log_renda']\n",
        "\n",
        "# Divisão da base em treinamento (75%) e teste (25%)\n",
        "X_train, X_test, y_train, y_test = train_test_split(X, y, test_size=0.25, random_state=42)\n",
        "\n",
        "# Pré-processamento: transformação de variáveis categóricas em dummies\n",
        "categorical_features = X.select_dtypes(include=['object', 'bool']).columns\n",
        "numeric_features = X.select_dtypes(include=['int64', 'float64']).columns\n",
        "\n",
        "# Definição do ColumnTransformer para transformação de dados\n",
        "preprocessor = ColumnTransformer(\n",
        "    transformers=[\n",
        "        ('num', StandardScaler(), numeric_features),\n",
        "        ('cat', OneHotEncoder(drop='first'), categorical_features)\n",
        "    ])\n",
        "\n",
        "X_train = X_train.dropna()\n",
        "y_train = y_train.loc[X_train.index]\n",
        "X_test = X_test.dropna()\n",
        "y_test = y_test.loc[X_test.index]\n"
      ]
    },
    {
      "cell_type": "code",
      "execution_count": null,
      "metadata": {
        "colab": {
          "base_uri": "https://localhost:8080/"
        },
        "id": "O3O7mwUx5zPD",
        "outputId": "9ca5d8a4-f674-41ec-9054-475a06f57b24"
      },
      "outputs": [
        {
          "output_type": "stream",
          "name": "stdout",
          "text": [
            "Alpha: 0, R2 Score: 0.3505045296211817\n",
            "Alpha: 0.001, R2 Score: 0.35050453567305306\n",
            "Alpha: 0.005, R2 Score: 0.3505045598460189\n",
            "Alpha: 0.01, R2 Score: 0.35050458998489886\n",
            "Alpha: 0.05, R2 Score: 0.35050482806918337\n",
            "Alpha: 0.1, R2 Score: 0.3505051184209472\n",
            "Melhor modelo Ridge com alpha=0.1, R2: 0.3505051184209472\n"
          ]
        }
      ],
      "source": [
        "# 2 - Modelos de Regressão Ridge e Lasso\n",
        "alphas = [0, 0.001, 0.005, 0.01, 0.05, 0.1]\n",
        "best_ridge_score = -np.inf\n",
        "best_ridge_model = None\n",
        "\n",
        "for alpha in alphas:\n",
        "    ridge = Pipeline(steps=[('preprocessor', preprocessor),\n",
        "                            ('regressor', Ridge(alpha=alpha))])\n",
        "    ridge.fit(X_train, y_train)\n",
        "    ridge_pred = ridge.predict(X_test)\n",
        "    ridge_r2 = r2_score(y_test, ridge_pred)\n",
        "    print(f'Alpha: {alpha}, R2 Score: {ridge_r2}')\n",
        "\n",
        "    if ridge_r2 > best_ridge_score:\n",
        "        best_ridge_score = ridge_r2\n",
        "        best_ridge_model = ridge\n",
        "\n",
        "print(f'Melhor modelo Ridge com alpha={best_ridge_model[\"regressor\"].alpha}, R2: {best_ridge_score}')"
      ]
    },
    {
      "cell_type": "code",
      "execution_count": null,
      "metadata": {
        "colab": {
          "base_uri": "https://localhost:8080/"
        },
        "id": "cSfeCRKw5ztc",
        "outputId": "5ef3d70f-cb7e-4ae0-d0b6-3a6e7c7b8de5"
      },
      "outputs": [
        {
          "output_type": "stream",
          "name": "stderr",
          "text": [
            "/usr/local/lib/python3.10/dist-packages/sklearn/base.py:1152: UserWarning: With alpha=0, this algorithm does not converge well. You are advised to use the LinearRegression estimator\n",
            "  return fit_method(estimator, *args, **kwargs)\n",
            "/usr/local/lib/python3.10/dist-packages/sklearn/linear_model/_coordinate_descent.py:628: UserWarning: Coordinate descent with no regularization may lead to unexpected results and is discouraged.\n",
            "  model = cd_fast.enet_coordinate_descent(\n",
            "/usr/local/lib/python3.10/dist-packages/sklearn/linear_model/_coordinate_descent.py:628: ConvergenceWarning: Objective did not converge. You might want to increase the number of iterations, check the scale of the features or consider increasing regularisation. Duality gap: 2.873e+03, tolerance: 8.797e-01 Linear regression models with null weight for the l1 regularization term are more efficiently fitted using one of the solvers implemented in sklearn.linear_model.Ridge/RidgeCV instead.\n",
            "  model = cd_fast.enet_coordinate_descent(\n"
          ]
        },
        {
          "output_type": "stream",
          "name": "stdout",
          "text": [
            "Alpha: 0, R2 Score: 0.35049867530947687\n",
            "Alpha: 0.001, R2 Score: 0.3511602092428856\n",
            "Alpha: 0.005, R2 Score: 0.35033198099020324\n",
            "Alpha: 0.01, R2 Score: 0.3463347904214438\n",
            "Alpha: 0.05, R2 Score: 0.30710281248530247\n",
            "Alpha: 0.1, R2 Score: 0.2452291097950634\n",
            "Melhor modelo LASSO com alpha=0.001, R2: 0.3511602092428856\n"
          ]
        }
      ],
      "source": [
        "#3 - Modelo Lasso\n",
        "best_lasso_score = -np.inf\n",
        "best_lasso_model = None\n",
        "\n",
        "for alpha in alphas:\n",
        "    lasso = Pipeline(steps=[('preprocessor', preprocessor),\n",
        "                            ('regressor', Lasso(alpha=alpha))])\n",
        "    lasso.fit(X_train, y_train)\n",
        "    lasso_pred = lasso.predict(X_test)\n",
        "    lasso_r2 = r2_score(y_test, lasso_pred)\n",
        "    print(f'Alpha: {alpha}, R2 Score: {lasso_r2}')\n",
        "\n",
        "    if lasso_r2 > best_lasso_score:\n",
        "        best_lasso_score = lasso_r2\n",
        "        best_lasso_model = lasso\n",
        "\n",
        "print(f'Melhor modelo LASSO com alpha={best_lasso_model[\"regressor\"].alpha}, R2: {best_lasso_score}')\n"
      ]
    },
    {
      "cell_type": "code",
      "execution_count": null,
      "metadata": {
        "colab": {
          "base_uri": "https://localhost:8080/"
        },
        "id": "7hwjtN0g55WW",
        "outputId": "5edf5e24-f8ed-4ca5-9a24-70c8f2b86bef"
      },
      "outputs": [
        {
          "output_type": "stream",
          "name": "stdout",
          "text": [
            "Index(['Unnamed:_0', 'id_cliente', 'posse_de_veiculo', 'posse_de_imovel',\n",
            "       'qtd_filhos', 'idade', 'tempo_emprego', 'qt_pessoas_residencia',\n",
            "       'log_renda', 'sexo_M', 'tipo_renda_Bolsista', 'tipo_renda_Empresário',\n",
            "       'tipo_renda_Pensionista', 'tipo_renda_Servidor_público',\n",
            "       'educacao_Pós_graduação', 'educacao_Secundário',\n",
            "       'educacao_Superior_completo', 'educacao_Superior_incompleto',\n",
            "       'estado_civil_Separado', 'estado_civil_Solteiro', 'estado_civil_União',\n",
            "       'estado_civil_Viúvo', 'tipo_residencia_Casa',\n",
            "       'tipo_residencia_Com_os_pais', 'tipo_residencia_Comunitário',\n",
            "       'tipo_residencia_Estúdio', 'tipo_residencia_Governamental'],\n",
            "      dtype='object') \n",
            "\n",
            "Add  sexo_M                         with p-value 0.0\n",
            "Add  tempo_emprego                  with p-value 0.0\n",
            "Add  tipo_renda_Pensionista         with p-value 1.97679e-72\n",
            "Add  tipo_renda_Empresário          with p-value 5.36735e-25\n",
            "Add  educacao_Superior_completo     with p-value 6.38984e-22\n",
            "Add  posse_de_imovel                with p-value 6.93129e-15\n",
            "Add  idade                          with p-value 4.74988e-12\n",
            "Add  qt_pessoas_residencia          with p-value 0.00116968\n",
            "Add  posse_de_veiculo               with p-value 0.00732617\n",
            "Add  tipo_renda_Servidor_público    with p-value 0.00834142\n",
            "resulting features:\n",
            "['sexo_M', 'tempo_emprego', 'tipo_renda_Pensionista', 'tipo_renda_Empresário', 'educacao_Superior_completo', 'posse_de_imovel', 'idade', 'qt_pessoas_residencia', 'posse_de_veiculo', 'tipo_renda_Servidor_público']\n"
          ]
        }
      ],
      "source": [
        "# 4.1 - Stepwise\n",
        "\n",
        "# Preparação do dataframe\n",
        "df_stepwise = df.drop(columns=['data_ref', 'renda'])  # Removendo colunas irrelevantes\n",
        "\n",
        "df_stepwise.columns = df_stepwise.columns.str.replace(' ', '_')\n",
        "\n",
        "# Evitar erros na stepwise\n",
        "\n",
        "# Remover a coluna 'Unnamed: 0' se ela existir\n",
        "df_stepwise = df_stepwise.drop(columns=['Unnamed: 0'], errors='ignore')\n",
        "\n",
        "# Remoção de valores nulos\n",
        "df_stepwise.dropna(inplace=True)\n",
        "\n",
        "# Transformação de variáveis categóricas\n",
        "colunas_categoricas = df_stepwise.select_dtypes(include=['object']).columns\n",
        "df_stepwise = pd.get_dummies(df_stepwise, columns=colunas_categoricas, drop_first=True)\n",
        "\n",
        "# Transformação de variáveis booleanas para inteiros\n",
        "colunas_bool = df_stepwise.select_dtypes(include=['bool']).columns\n",
        "df_stepwise[colunas_bool] = df_stepwise[colunas_bool].astype(int)\n",
        "\n",
        "df_stepwise.columns = df_stepwise.columns.str.replace(' ', '_')\n",
        "\n",
        "\n",
        "\n",
        "# Definição das variáveis para Stepwise Selection\n",
        "X_stepwise = df_stepwise.drop(columns=['id_cliente', 'log_renda'])\n",
        "y_stepwise = df_stepwise['log_renda']\n",
        "\n",
        "# Conferencia das colunas\n",
        "print(df_stepwise.columns,'\\n')\n",
        "\n",
        "\n",
        "\n",
        "# Função de Stepwise Selection\n",
        "def stepwise_selection(X, y,\n",
        "                       initial_list=[],\n",
        "                       threshold_in=0.01,\n",
        "                       threshold_out=0.05,\n",
        "                       verbose=True):\n",
        "    included = list(initial_list)\n",
        "    while True:\n",
        "        changed = False\n",
        "        # forward step\n",
        "        excluded = list(set(X.columns) - set(included))\n",
        "        new_pval = pd.Series(index=excluded)\n",
        "        for new_column in excluded:\n",
        "            model = sm.OLS(y, sm.add_constant(pd.DataFrame(X[included + [new_column]]))).fit()\n",
        "            new_pval[new_column] = model.pvalues[new_column]\n",
        "        best_pval = new_pval.min()\n",
        "        if best_pval < threshold_in:\n",
        "            best_feature = new_pval.idxmin()\n",
        "            included.append(best_feature)\n",
        "            changed = True\n",
        "            if verbose:\n",
        "                print('Add  {:30} with p-value {:.6}'.format(best_feature, best_pval))\n",
        "\n",
        "        # backward step\n",
        "        model = sm.OLS(y, sm.add_constant(pd.DataFrame(X[included]))).fit()\n",
        "        pvalues = model.pvalues.iloc[1:]\n",
        "        worst_pval = pvalues.max()\n",
        "        if worst_pval > threshold_out:\n",
        "            changed = True\n",
        "            worst_feature = pvalues.idxmax()\n",
        "            included.remove(worst_feature)\n",
        "            if verbose:\n",
        "                print('Drop {:30} with p-value {:.6}'.format(worst_feature, worst_pval))\n",
        "        if not changed:\n",
        "            break\n",
        "    return included\n",
        "\n",
        "result = stepwise_selection(X_stepwise, y_stepwise)\n",
        "\n",
        "print('resulting features:')\n",
        "print(result)"
      ]
    },
    {
      "cell_type": "code",
      "source": [
        "# 4.2 - Atualizando a formula\n",
        "formula = 'log_renda ~ ' + ' + '.join(result)\n",
        "\n",
        "# Patsy\n",
        "y_stepwise, X_stepwise = dmatrices(formula, data=df_stepwise, return_type='dataframe')\n",
        "model = sm.OLS(y_stepwise, X_stepwise).fit()\n",
        "\n",
        "print(model.summary())"
      ],
      "metadata": {
        "colab": {
          "base_uri": "https://localhost:8080/"
        },
        "id": "LtzOcyoXMAm2",
        "outputId": "d602cacb-3291-4890-9757-92822ea8365b"
      },
      "execution_count": null,
      "outputs": [
        {
          "output_type": "stream",
          "name": "stdout",
          "text": [
            "                            OLS Regression Results                            \n",
            "==============================================================================\n",
            "Dep. Variable:              log_renda   R-squared:                       0.347\n",
            "Model:                            OLS   Adj. R-squared:                  0.347\n",
            "Method:                 Least Squares   F-statistic:                     797.2\n",
            "Date:                Fri, 13 Sep 2024   Prob (F-statistic):               0.00\n",
            "Time:                        13:39:52   Log-Likelihood:                -16226.\n",
            "No. Observations:               15000   AIC:                         3.247e+04\n",
            "Df Residuals:                   14989   BIC:                         3.256e+04\n",
            "Df Model:                          10                                         \n",
            "Covariance Type:            nonrobust                                         \n",
            "===============================================================================================\n",
            "                                  coef    std err          t      P>|t|      [0.025      0.975]\n",
            "-----------------------------------------------------------------------------------------------\n",
            "Intercept                       7.0635      0.038    184.751      0.000       6.989       7.138\n",
            "sexo_M                          0.7930      0.014     57.985      0.000       0.766       0.820\n",
            "tempo_emprego                   0.0616      0.001     60.414      0.000       0.060       0.064\n",
            "tipo_renda_Pensionista          0.2804      0.024     11.873      0.000       0.234       0.327\n",
            "tipo_renda_Empresário           0.1520      0.015     10.334      0.000       0.123       0.181\n",
            "educacao_Superior_completo      0.1196      0.012      9.639      0.000       0.095       0.144\n",
            "posse_de_imovel                 0.0882      0.013      6.996      0.000       0.064       0.113\n",
            "idade                           0.0055      0.001      7.605      0.000       0.004       0.007\n",
            "qt_pessoas_residencia           0.0205      0.007      2.979      0.003       0.007       0.034\n",
            "posse_de_veiculo                0.0350      0.013      2.699      0.007       0.010       0.060\n",
            "tipo_renda_Servidor_público     0.0579      0.022      2.638      0.008       0.015       0.101\n",
            "==============================================================================\n",
            "Omnibus:                        0.751   Durbin-Watson:                   2.021\n",
            "Prob(Omnibus):                  0.687   Jarque-Bera (JB):                0.722\n",
            "Skew:                           0.006   Prob(JB):                        0.697\n",
            "Kurtosis:                       3.032   Cond. No.                         310.\n",
            "==============================================================================\n",
            "\n",
            "Notes:\n",
            "[1] Standard Errors assume that the covariance matrix of the errors is correctly specified.\n"
          ]
        }
      ]
    },
    {
      "cell_type": "markdown",
      "source": [
        "**5 -**\n",
        "\n",
        "O modelo **LASSO** com *alpha = 0.001* parece oferecer o melhor desempenho em termos de R-quadrado, sugerindo que pode ser o mais adequado para seus dados com base nas métricas fornecidas.\n",
        "\n",
        "Contudo.\n",
        "\n",
        "O modelo **OLS** é mais simples e não envolve regularização, o que pode levar ao sobreajuste se o modelo for muito complexo."
      ],
      "metadata": {
        "id": "oDmATGMXYSwT"
      }
    },
    {
      "cell_type": "code",
      "source": [
        "# 6 - O R² na Regressão ridge aparenta estar aumentando conforme a gente aumenta o alpha\n",
        "# vou testar com valores maiores\n",
        "\n",
        "alphas = [0.5, 0.6, 0.7, 0.8]\n",
        "best_ridge_score = -np.inf\n",
        "best_ridge_model = None\n",
        "\n",
        "for alpha in alphas:\n",
        "    ridge = Pipeline(steps=[('preprocessor', preprocessor),\n",
        "                            ('regressor', Ridge(alpha=alpha))])\n",
        "    ridge.fit(X_train, y_train)\n",
        "    ridge_pred = ridge.predict(X_test)\n",
        "    ridge_r2 = r2_score(y_test, ridge_pred)\n",
        "    print(f'Alpha: {alpha}, R2 Score: {ridge_r2}')\n",
        "\n",
        "    if ridge_r2 > best_ridge_score:\n",
        "        best_ridge_score = ridge_r2\n",
        "        best_ridge_model = ridge\n",
        "\n",
        "print(f'Melhor modelo Ridge com alpha={best_ridge_model[\"regressor\"].alpha}, R2: {best_ridge_score}')"
      ],
      "metadata": {
        "colab": {
          "base_uri": "https://localhost:8080/"
        },
        "id": "rjl9mLIleBZt",
        "outputId": "d7f0c9f7-b25b-4a86-c8a1-9bbdccf96e6d"
      },
      "execution_count": null,
      "outputs": [
        {
          "output_type": "stream",
          "name": "stdout",
          "text": [
            "Alpha: 0.5, R2 Score: 0.3505072080714482\n",
            "Alpha: 0.6, R2 Score: 0.35050768096981333\n",
            "Alpha: 0.7, R2 Score: 0.35050813967348027\n",
            "Alpha: 0.8, R2 Score: 0.35050858650725447\n",
            "Melhor modelo Ridge com alpha=0.8, R2: 0.35050858650725447\n"
          ]
        }
      ]
    },
    {
      "cell_type": "code",
      "source": [
        "# 7 Ajuste da árvore de regressão\n",
        "tree_model = Pipeline(steps=[('preprocessor', preprocessor),\n",
        "                             ('regressor', DecisionTreeRegressor(random_state=81))])\n",
        "tree_model.fit(X_train, y_train)\n",
        "tree_pred = tree_model.predict(X_test)\n",
        "tree_r2 = r2_score(y_test, tree_pred)\n",
        "\n",
        "print(f'R² da Árvore de Regressão: {tree_r2}')"
      ],
      "metadata": {
        "colab": {
          "base_uri": "https://localhost:8080/"
        },
        "id": "TquL2w7nfoKA",
        "outputId": "7e89b176-fb7f-44ef-c147-bb43ee30611a"
      },
      "execution_count": null,
      "outputs": [
        {
          "output_type": "stream",
          "name": "stdout",
          "text": [
            "R² da Árvore de Regressão: -0.15018958910704838\n"
          ]
        }
      ]
    }
  ],
  "metadata": {
    "colab": {
      "provenance": []
    },
    "kernelspec": {
      "display_name": "Python 3",
      "language": "python",
      "name": "python3"
    },
    "language_info": {
      "codemirror_mode": {
        "name": "ipython",
        "version": 3
      },
      "file_extension": ".py",
      "mimetype": "text/x-python",
      "name": "python",
      "nbconvert_exporter": "python",
      "pygments_lexer": "ipython3",
      "version": "3.8.5"
    }
  },
  "nbformat": 4,
  "nbformat_minor": 0
}