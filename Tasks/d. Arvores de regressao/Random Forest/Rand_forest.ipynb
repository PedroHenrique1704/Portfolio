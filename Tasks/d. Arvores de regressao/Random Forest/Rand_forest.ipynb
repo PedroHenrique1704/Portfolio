{
 "cells": [
  {
   "cell_type": "markdown",
   "id": "ed93064a-6592-4819-b83f-31cebeeaf5a2",
   "metadata": {},
   "source": [
    "# Exercicio 2 módulo 23 - **Combinação de Modelos I**"
   ]
  },
  {
   "cell_type": "markdown",
   "id": "3cbdafde-5700-4b7b-845e-657f4eff11e4",
   "metadata": {
    "jp-MarkdownHeadingCollapsed": true
   },
   "source": [
    "### 1- Monte um passo a passo para o **Random Forest**"
   ]
  },
  {
   "cell_type": "markdown",
   "id": "8d1c0b94-7262-45dc-a58e-4c1ce24d5088",
   "metadata": {},
   "source": [
    "**Passo 1**\n",
    "\n",
    "* **Preparação dos dados**\n",
    "1. Carregue os dados, para o **Random Forest** você terá amostras com características *( ou features )* e rótulos de classes *( targets ).*\n",
    "2. Certifique-se de que os dados já estejam *normalizados e padronizados*\n",
    "3. Os divida em treino e teste\n",
    "\n",
    "**Passo 2**\n",
    "\n",
    "* **Gerar subconjuntos dos dados ( *Bootstrap* )**\n",
    "1. A partir do conjunto de treino **original** gere multiplos subconjuntos de dados.\n",
    "2. Para cada subconjunto use a técnica **Amostra com Reposição**, ou seja, escolha amostras *aleatórias* e permita *repetições*.\n",
    "\n",
    "**Passo 3**\n",
    "\n",
    "* **Treinar um modelo para cada *subconjunto* gerado**\n",
    "1. Para cada **subconjunto**, treine uma *árvore de decisãos*.\n",
    "    1. A cada divisão (ou nó), a árvore escolhe apenas uma seleção aleatória de características em vez de considerar todas as disponíveis.\n",
    "    2. Esse processo ajuda cada árvore a aprender de forma ligeiramente diferente e *reduz a correlação entre as árvores*, tornando o **ensemble** mais **robusto**.\n",
    "\n",
    "**Passo 4**\n",
    "* **Fazer previsões**\n",
    "1. Após todos os *subconjuntos* serem treinados, utilize eles para fazer **previsões** sobre os dados de testes ou novos dados.\n",
    "     1. Para cada amostra, cada *árvore de decisão* fornece uma **previsão** *( ou “voto” )*.\n",
    "     2. Cada árvore *“ vota ”* em uma **classe** *( no caso de classificação )* ou faz uma **estimativa** *( no caso de regressão )*.\n",
    "\n",
    "**Passo 5**\n",
    "* **Agregar as previsões**\n",
    "1. Combine a **previsão dos subconjuntos** para chegar a uma **previsão final**\n",
    "   1. Para problemas de **classificação** se utiliza a *votação majoritária*\n",
    "   2. Para problemas de **regressão**, se utiliza a *média das previsões*\n",
    "   "
   ]
  },
  {
   "cell_type": "markdown",
   "id": "966631f4-cc8a-47f5-8545-9604f048c22f",
   "metadata": {
    "jp-MarkdownHeadingCollapsed": true
   },
   "source": [
    "### 2- Explique em suas palavras o **Random Forest**"
   ]
  },
  {
   "cell_type": "markdown",
   "id": "99821fba-a10f-44ac-8294-f6e29daec2cd",
   "metadata": {},
   "source": [
    "* Analogia com uma **Sala de aula**\n",
    "\n",
    "1. Você possui uma **sala de aula** *( dataframe )*\n",
    "\n",
    "2. Em sua sala de aula você possui diversos **alunos** *( amostras )* e cada aluno por sua vez tera características como **notas**,**tamanho**,**frequência** entre outras *( features )* e terão como seu objetivo alcançar ou ficar acima da  **média** *( target )*\n",
    "\n",
    "3. Você, por sua vez vai escolher um número X de alunos *( subconjuntos )* no qual irá fazer 1 de Y perguntas que você havia preparado, logo após isso pedirá para que voltem ao seu lugar, fazendo com que possam ser escolhidos novamente e caso sejam escolhidos, possivelmente acabem respondendo uma pergunta diferente.\n",
    "\n",
    "4. Após **repetir esse processo enumeras vezes**, você percebe que anotou as repostas diversas vezes, você percebeu que alguns alunos repetiram com perguntas diferentes, alguns pouquíssimos acabaram repetindo com a mesma pergunta e em quase todos os casos, grupos diferentes que responderam\n",
    "\n",
    "5. No fim, você pode ver qual pergunta resposta para cada tipo de aluno, ou qual *característica* possui maior relevância para estar acima da **média** estabelecida *( Target )*\n",
    "\n",
    "---\n",
    "\n",
    "* Explicação mais técnica para o método: **Random Forest**\n",
    "\n",
    "O método **Random Forest** é uma técnica poderosa e robusta que combina a força de várias árvores de decisão treinadas em *subconjuntos aleatórios* dos *dados e das características*, resultando em um modelo mais **preciso e confiável**."
   ]
  },
  {
   "cell_type": "markdown",
   "id": "0b0cf116-c04e-4877-a27d-bb75308352a3",
   "metadata": {
    "jp-MarkdownHeadingCollapsed": true
   },
   "source": [
    "# 3 (opcional) - Implementar em **Python** o **Random Forest**\n",
    "* **Contendo**:\n",
    "    1. Bootstrap\n",
    "    2. Feature Selection\n",
    "    3. Modelagem com Decision Trees\n",
    "    4. Agregação"
   ]
  },
  {
   "cell_type": "code",
   "execution_count": 1,
   "id": "4a799392-2135-4f16-aa1a-a5b3e84265b1",
   "metadata": {},
   "outputs": [],
   "source": [
    "import pandas                as     pd\n",
    "import numpy                 as     np\n",
    "\n",
    "\n",
    "from sklearn.ensemble        import RandomForestClassifier\n",
    "from sklearn.datasets        import load_iris\n",
    "from sklearn.model_selection import train_test_split, cross_val_score\n",
    "from sklearn.metrics         import accuracy_score, confusion_matrix, classification_report"
   ]
  },
  {
   "cell_type": "code",
   "execution_count": 2,
   "id": "39006d6f-be2b-47ac-b9e9-4b7817c65798",
   "metadata": {},
   "outputs": [],
   "source": [
    "# Passo 1.1: iremos criar nosso dataframe\n",
    "iris = load_iris()\n",
    "df = pd.DataFrame(data=iris.data, columns=iris.feature_names) # O conjunto de dados das flores seriam como a sala de aula\n",
    "df['target'] = iris.target                                    # Nosso target seria como as médias que devem ser alcançadas"
   ]
  },
  {
   "cell_type": "code",
   "execution_count": 3,
   "id": "d4e35c61-522a-491a-8e50-4b0e0008e5ab",
   "metadata": {},
   "outputs": [
    {
     "data": {
      "text/html": [
       "<div>\n",
       "<style scoped>\n",
       "    .dataframe tbody tr th:only-of-type {\n",
       "        vertical-align: middle;\n",
       "    }\n",
       "\n",
       "    .dataframe tbody tr th {\n",
       "        vertical-align: top;\n",
       "    }\n",
       "\n",
       "    .dataframe thead th {\n",
       "        text-align: right;\n",
       "    }\n",
       "</style>\n",
       "<table border=\"1\" class=\"dataframe\">\n",
       "  <thead>\n",
       "    <tr style=\"text-align: right;\">\n",
       "      <th></th>\n",
       "      <th>sepal length (cm)</th>\n",
       "      <th>sepal width (cm)</th>\n",
       "      <th>petal length (cm)</th>\n",
       "      <th>petal width (cm)</th>\n",
       "      <th>target</th>\n",
       "      <th>class</th>\n",
       "    </tr>\n",
       "  </thead>\n",
       "  <tbody>\n",
       "    <tr>\n",
       "      <th>0</th>\n",
       "      <td>5.1</td>\n",
       "      <td>3.5</td>\n",
       "      <td>1.4</td>\n",
       "      <td>0.2</td>\n",
       "      <td>0</td>\n",
       "      <td>setosa</td>\n",
       "    </tr>\n",
       "    <tr>\n",
       "      <th>1</th>\n",
       "      <td>4.9</td>\n",
       "      <td>3.0</td>\n",
       "      <td>1.4</td>\n",
       "      <td>0.2</td>\n",
       "      <td>0</td>\n",
       "      <td>setosa</td>\n",
       "    </tr>\n",
       "    <tr>\n",
       "      <th>2</th>\n",
       "      <td>4.7</td>\n",
       "      <td>3.2</td>\n",
       "      <td>1.3</td>\n",
       "      <td>0.2</td>\n",
       "      <td>0</td>\n",
       "      <td>setosa</td>\n",
       "    </tr>\n",
       "    <tr>\n",
       "      <th>3</th>\n",
       "      <td>4.6</td>\n",
       "      <td>3.1</td>\n",
       "      <td>1.5</td>\n",
       "      <td>0.2</td>\n",
       "      <td>0</td>\n",
       "      <td>setosa</td>\n",
       "    </tr>\n",
       "    <tr>\n",
       "      <th>4</th>\n",
       "      <td>5.0</td>\n",
       "      <td>3.6</td>\n",
       "      <td>1.4</td>\n",
       "      <td>0.2</td>\n",
       "      <td>0</td>\n",
       "      <td>setosa</td>\n",
       "    </tr>\n",
       "    <tr>\n",
       "      <th>...</th>\n",
       "      <td>...</td>\n",
       "      <td>...</td>\n",
       "      <td>...</td>\n",
       "      <td>...</td>\n",
       "      <td>...</td>\n",
       "      <td>...</td>\n",
       "    </tr>\n",
       "    <tr>\n",
       "      <th>145</th>\n",
       "      <td>6.7</td>\n",
       "      <td>3.0</td>\n",
       "      <td>5.2</td>\n",
       "      <td>2.3</td>\n",
       "      <td>2</td>\n",
       "      <td>virginica</td>\n",
       "    </tr>\n",
       "    <tr>\n",
       "      <th>146</th>\n",
       "      <td>6.3</td>\n",
       "      <td>2.5</td>\n",
       "      <td>5.0</td>\n",
       "      <td>1.9</td>\n",
       "      <td>2</td>\n",
       "      <td>virginica</td>\n",
       "    </tr>\n",
       "    <tr>\n",
       "      <th>147</th>\n",
       "      <td>6.5</td>\n",
       "      <td>3.0</td>\n",
       "      <td>5.2</td>\n",
       "      <td>2.0</td>\n",
       "      <td>2</td>\n",
       "      <td>virginica</td>\n",
       "    </tr>\n",
       "    <tr>\n",
       "      <th>148</th>\n",
       "      <td>6.2</td>\n",
       "      <td>3.4</td>\n",
       "      <td>5.4</td>\n",
       "      <td>2.3</td>\n",
       "      <td>2</td>\n",
       "      <td>virginica</td>\n",
       "    </tr>\n",
       "    <tr>\n",
       "      <th>149</th>\n",
       "      <td>5.9</td>\n",
       "      <td>3.0</td>\n",
       "      <td>5.1</td>\n",
       "      <td>1.8</td>\n",
       "      <td>2</td>\n",
       "      <td>virginica</td>\n",
       "    </tr>\n",
       "  </tbody>\n",
       "</table>\n",
       "<p>150 rows × 6 columns</p>\n",
       "</div>"
      ],
      "text/plain": [
       "     sepal length (cm)  sepal width (cm)  petal length (cm)  petal width (cm)  \\\n",
       "0                  5.1               3.5                1.4               0.2   \n",
       "1                  4.9               3.0                1.4               0.2   \n",
       "2                  4.7               3.2                1.3               0.2   \n",
       "3                  4.6               3.1                1.5               0.2   \n",
       "4                  5.0               3.6                1.4               0.2   \n",
       "..                 ...               ...                ...               ...   \n",
       "145                6.7               3.0                5.2               2.3   \n",
       "146                6.3               2.5                5.0               1.9   \n",
       "147                6.5               3.0                5.2               2.0   \n",
       "148                6.2               3.4                5.4               2.3   \n",
       "149                5.9               3.0                5.1               1.8   \n",
       "\n",
       "     target      class  \n",
       "0         0     setosa  \n",
       "1         0     setosa  \n",
       "2         0     setosa  \n",
       "3         0     setosa  \n",
       "4         0     setosa  \n",
       "..      ...        ...  \n",
       "145       2  virginica  \n",
       "146       2  virginica  \n",
       "147       2  virginica  \n",
       "148       2  virginica  \n",
       "149       2  virginica  \n",
       "\n",
       "[150 rows x 6 columns]"
      ]
     },
     "execution_count": 3,
     "metadata": {},
     "output_type": "execute_result"
    }
   ],
   "source": [
    "#Passo 1.2 (opcional): Visualização do dataframe para melhor comrpeensão do que a nossa sala de aula se trata\n",
    "\n",
    "class_mapping = {0: 'setosa', 1: 'versicolor', 2: 'virginica'}\n",
    "df['class'] = df['target'].map(class_mapping)\n",
    "\n",
    "df"
   ]
  },
  {
   "cell_type": "code",
   "execution_count": 4,
   "id": "242bad15-56d0-4567-b8af-5ce0070052cb",
   "metadata": {},
   "outputs": [],
   "source": [
    "# Passo 2: Iremos treinar nosso banco de dados com uma parcela (25%) dos alunos de sala de aula\n",
    "\n",
    "X = df[iris.feature_names]\n",
    "y = df['target']\n",
    "X_train, X_test, y_train, y_test = train_test_split(X, y, test_size=0.25, random_state=27)"
   ]
  },
  {
   "cell_type": "code",
   "execution_count": 5,
   "id": "3d9369de-9de8-4e8c-80c0-814c625d35b4",
   "metadata": {},
   "outputs": [],
   "source": [
    "# Passo 3: Configurar e treinar o modelo Random Forest, com 100 arvores de decisão diferentes, que seriam 100 subconjuntos diferentes dos alunos\n",
    "random_forest_model = RandomForestClassifier(n_estimators=100, random_state=27)\n",
    "random_forest_model.fit(X_train, y_train)\n",
    "\n",
    "# Passo 4: Agora faremos as previsões, que seriam conferir se as respostas batem com as médias esperadas para cada aluno\n",
    "y_pred = random_forest_model.predict(X_test)"
   ]
  },
  {
   "cell_type": "code",
   "execution_count": 6,
   "id": "d5877c39-3753-497d-902f-030ee850b7c9",
   "metadata": {
    "scrolled": true
   },
   "outputs": [
    {
     "name": "stdout",
     "output_type": "stream",
     "text": [
      "\n",
      "Acurácia: 92.11%\n"
     ]
    }
   ],
   "source": [
    "# Passo 5.1) Avaliar o modelo\n",
    "\n",
    "# Acuracia\n",
    "accuracy = accuracy_score(y_test, y_pred)\n",
    "print(f\"\\nAcurácia: {accuracy * 100:.2f}%\")"
   ]
  },
  {
   "cell_type": "markdown",
   "id": "47c9581e-1ae1-4f70-be30-05ff5c52080c",
   "metadata": {},
   "source": [
    "* Um bom desempenho geral do sistema"
   ]
  },
  {
   "cell_type": "code",
   "execution_count": 7,
   "id": "b0ec0241-2c85-4450-9429-2a5d2ce57825",
   "metadata": {},
   "outputs": [
    {
     "name": "stdout",
     "output_type": "stream",
     "text": [
      "\n",
      "Matriz de Confusão:\n",
      "[[ 9  0  0]\n",
      " [ 0 13  1]\n",
      " [ 0  2 13]]\n"
     ]
    }
   ],
   "source": [
    "# Passo 5.2) Avaliar o modelo\n",
    "\n",
    "# Matriz de confusão\n",
    "conf_matrix = confusion_matrix(y_test, y_pred)\n",
    "print(\"\\nMatriz de Confusão:\")\n",
    "print(conf_matrix)"
   ]
  },
  {
   "cell_type": "markdown",
   "id": "f9eee10e-c58b-476c-9a12-5b227eefaecb",
   "metadata": {},
   "source": [
    "1. **Classe Setosa:**\n",
    "\n",
    "* 9 previsões corretas (no canto superior esquerdo)\n",
    "* nenhum erro.\n",
    "\n",
    "2. **Classe Versicolor:**\n",
    "\n",
    "* 13 previsões corretas (na diagonal)\n",
    "* 1 erro (uma amostra foi classificada incorretamente como virginica).\n",
    "\n",
    "3. **Classe Virginica:**\n",
    "\n",
    "* 13 previsões corretas (na diagonal)\n",
    "* 2 erros (foram classificadas como versicolor)."
   ]
  },
  {
   "cell_type": "code",
   "execution_count": 8,
   "id": "5e7d1c14-911c-4e06-bdf8-679412838b7e",
   "metadata": {
    "scrolled": true
   },
   "outputs": [
    {
     "name": "stdout",
     "output_type": "stream",
     "text": [
      "\n",
      "Relatório de Classificação:\n",
      "              precision    recall  f1-score   support\n",
      "\n",
      "      setosa       1.00      1.00      1.00         9\n",
      "  versicolor       0.87      0.93      0.90        14\n",
      "   virginica       0.93      0.87      0.90        15\n",
      "\n",
      "    accuracy                           0.92        38\n",
      "   macro avg       0.93      0.93      0.93        38\n",
      "weighted avg       0.92      0.92      0.92        38\n",
      "\n"
     ]
    }
   ],
   "source": [
    "# Passo 5.3) Avaliar o modelo\n",
    "\n",
    "# Relatório de classificação\n",
    "report = classification_report(y_test, y_pred, target_names=iris.target_names)\n",
    "print(\"\\nRelatório de Classificação:\")\n",
    "print(report)"
   ]
  },
  {
   "cell_type": "markdown",
   "id": "bdabcc1d-c282-4ae8-8468-33d3db5c323f",
   "metadata": {},
   "source": [
    "* **Precisão**:\n",
    "\n",
    "1. **Setosa**: Perfeita precisão, todas as previsões para **setosa** estavam corretas.\n",
    "2. **Versicolor**: 87% das previsões feitas para **versicolor** estavam corretas.\n",
    "3. **Virginica**: 93% das previsões feitas para **virginica** estavam corretas.\n",
    "\n",
    "* **Revocação** \n",
    "\n",
    "1. **Setosa**: O modelo identificou 100% das amostras **setosa** corretamente.\n",
    "2. **Versicolor**: O modelo identificou 93% das amostras **versicolor** corretamente.\n",
    "3. **Virginica**: O modelo identificou 87% das amostras **virginica** corretamente.\n",
    "\n",
    "* **F1-Score**:\n",
    "\n",
    "1. **Setosa**: Perfeito equilíbrio entre **precisão** e **Revocação**.\n",
    "2. **Versicolor**: 0.90, Bom equilíbrio entre **precisão** e **Revocação**.\n",
    "3. **Virginica**: 0.90, Bom equilíbrio também."
   ]
  },
  {
   "cell_type": "code",
   "execution_count": 9,
   "id": "8dcaa78b-ffbc-4025-8340-1218675d058c",
   "metadata": {},
   "outputs": [
    {
     "name": "stdout",
     "output_type": "stream",
     "text": [
      "Acurácias da validação cruzada para cada fold: [0.95652174 1.         1.         0.95454545 0.90909091]\n",
      "Média da acurácia na validação cruzada: 0.9640316205533596\n"
     ]
    }
   ],
   "source": [
    "# Passo 5.4) Avaliar o modelo\n",
    "\n",
    "# Acuracia validação cruzada\n",
    "val_acuracia = cross_val_score(random_forest_model, X_train, y_train, cv=5)  # 5-fold cross-validation\n",
    "\n",
    "# Exibindo a acurácia de cada fold\n",
    "print(f\"Acurácias da validação cruzada para cada fold: {val_acuracia}\")\n",
    "print(f\"Média da acurácia na validação cruzada: {np.mean(val_acuracia)}\")"
   ]
  },
  {
   "cell_type": "markdown",
   "id": "44fe2657-26b7-439c-ae75-b2f8123f8a19",
   "metadata": {},
   "source": [
    "* As acurácias dos *5 folds* variam entre **90.91%** e **100%**, com uma média de **96.4%**.\n",
    "    1. Indicando que o modelo é consistente e robusto.\n",
    "    2. Mesmo nas divisões mais difíceis (com acurácia de **90.91%**), ele ainda apresenta bom desempenho.\n"
   ]
  }
 ],
 "metadata": {
  "kernelspec": {
   "display_name": "Python 3 (ipykernel)",
   "language": "python",
   "name": "python3"
  },
  "language_info": {
   "codemirror_mode": {
    "name": "ipython",
    "version": 3
   },
   "file_extension": ".py",
   "mimetype": "text/x-python",
   "name": "python",
   "nbconvert_exporter": "python",
   "pygments_lexer": "ipython3",
   "version": "3.11.9"
  }
 },
 "nbformat": 4,
 "nbformat_minor": 5
}
