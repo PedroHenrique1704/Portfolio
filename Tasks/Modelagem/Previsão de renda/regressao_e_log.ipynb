{
  "cells": [
    {
      "cell_type": "markdown",
      "metadata": {
        "id": "c6pQVXt8qLXs"
      },
      "source": [
        "# EBAC - Regressão II - regressão múltipla\n",
        "\n",
        "## Tarefa I"
      ]
    },
    {
      "cell_type": "markdown",
      "metadata": {
        "id": "lv3m_1N8qLXu"
      },
      "source": [
        "#### Previsão de renda\n",
        "\n",
        "Vamos trabalhar com a base 'previsao_de_renda.csv', que é a base do seu próximo projeto. Vamos usar os recursos que vimos até aqui nesta base.\n",
        "\n",
        "|variavel|descrição|\n",
        "|-|-|\n",
        "|data_ref                | Data de referência de coleta das variáveis |\n",
        "|index                   | Código de identificação do cliente|\n",
        "|sexo                    | Sexo do cliente|\n",
        "|posse_de_veiculo        | Indica se o cliente possui veículo|\n",
        "|posse_de_imovel         | Indica se o cliente possui imóvel|\n",
        "|qtd_filhos              | Quantidade de filhos do cliente|\n",
        "|tipo_renda              | Tipo de renda do cliente|\n",
        "|educacao                | Grau de instrução do cliente|\n",
        "|estado_civil            | Estado civil do cliente|\n",
        "|tipo_residencia         | Tipo de residência do cliente (própria, alugada etc)|\n",
        "|idade                   | Idade do cliente|\n",
        "|tempo_emprego           | Tempo no emprego atual|\n",
        "|qt_pessoas_residencia   | Quantidade de pessoas que moram na residência|\n",
        "|renda                   | Renda em reais|"
      ]
    },
    {
      "cell_type": "code",
      "execution_count": null,
      "metadata": {
        "id": "4a48rTuWqLXv"
      },
      "outputs": [],
      "source": [
        "import pandas as pd\n",
        "import numpy as np\n",
        "import statsmodels.api as sm\n",
        "from patsy import dmatrices"
      ]
    },
    {
      "cell_type": "code",
      "execution_count": null,
      "metadata": {
        "id": "YWLfr56iqLXw"
      },
      "outputs": [],
      "source": [
        "df = pd.read_csv('previsao_de_renda.csv')"
      ]
    },
    {
      "cell_type": "code",
      "execution_count": null,
      "metadata": {
        "colab": {
          "base_uri": "https://localhost:8080/"
        },
        "id": "ElPiOUjPqLXx",
        "outputId": "1b497045-93e1-44e7-b9c8-2c506aa5a18f"
      },
      "outputs": [
        {
          "output_type": "stream",
          "name": "stdout",
          "text": [
            "<class 'pandas.core.frame.DataFrame'>\n",
            "RangeIndex: 15000 entries, 0 to 14999\n",
            "Data columns (total 15 columns):\n",
            " #   Column                 Non-Null Count  Dtype  \n",
            "---  ------                 --------------  -----  \n",
            " 0   Unnamed: 0             15000 non-null  int64  \n",
            " 1   data_ref               15000 non-null  object \n",
            " 2   id_cliente             15000 non-null  int64  \n",
            " 3   sexo                   15000 non-null  object \n",
            " 4   posse_de_veiculo       15000 non-null  bool   \n",
            " 5   posse_de_imovel        15000 non-null  bool   \n",
            " 6   qtd_filhos             15000 non-null  int64  \n",
            " 7   tipo_renda             15000 non-null  object \n",
            " 8   educacao               15000 non-null  object \n",
            " 9   estado_civil           15000 non-null  object \n",
            " 10  tipo_residencia        15000 non-null  object \n",
            " 11  idade                  15000 non-null  int64  \n",
            " 12  tempo_emprego          12427 non-null  float64\n",
            " 13  qt_pessoas_residencia  15000 non-null  float64\n",
            " 14  renda                  15000 non-null  float64\n",
            "dtypes: bool(2), float64(3), int64(4), object(6)\n",
            "memory usage: 1.5+ MB\n"
          ]
        }
      ],
      "source": [
        "df.info()"
      ]
    },
    {
      "cell_type": "markdown",
      "metadata": {
        "id": "zm1ijdPKqLXx"
      },
      "source": [
        "1. Ajuste um modelo para prever log(renda) considerando todas as covariáveis disponíveis.\n",
        "    - Utilizando os recursos do Patsy, coloque as variáveis qualitativas como *dummies*.\n",
        "    - Mantenha sempre a categoria mais frequente como casela de referência\n",
        "    - Avalie os parâmetros e veja se parecem fazer sentido prático.\n",
        "\n",
        "2. Remova a variável menos significante e analise:\n",
        "    - Observe os indicadores que vimos, e avalie se o modelo melhorou ou piorou na sua opinião.\n",
        "    - Observe os parâmetros e veja se algum se alterou muito.\n",
        "\n",
        "3. Siga removendo as variáveis menos significantes, sempre que o *p-value* for menor que 5%. Compare o modelo final com o inicial. Observe os indicadores e conclua se o modelo parece melhor.\n",
        "    "
      ]
    },
    {
      "cell_type": "code",
      "execution_count": null,
      "metadata": {
        "colab": {
          "base_uri": "https://localhost:8080/"
        },
        "id": "3nIshykuqLXy",
        "outputId": "b99361ac-e42e-448d-8e28-8ba40bf7393b"
      },
      "outputs": [
        {
          "output_type": "stream",
          "name": "stdout",
          "text": [
            "                            OLS Regression Results                            \n",
            "==============================================================================\n",
            "Dep. Variable:              log_renda   R-squared:                       0.357\n",
            "Model:                            OLS   Adj. R-squared:                  0.356\n",
            "Method:                 Least Squares   F-statistic:                     287.5\n",
            "Date:                Sat, 31 Aug 2024   Prob (F-statistic):               0.00\n",
            "Time:                        00:23:04   Log-Likelihood:                -13568.\n",
            "No. Observations:               12427   AIC:                         2.719e+04\n",
            "Df Residuals:                   12402   BIC:                         2.737e+04\n",
            "Df Model:                          24                                         \n",
            "Covariance Type:            nonrobust                                         \n",
            "=======================================================================================================\n",
            "                                          coef    std err          t      P>|t|      [0.025      0.975]\n",
            "-------------------------------------------------------------------------------------------------------\n",
            "Intercept                               6.5847      0.235     28.006      0.000       6.124       7.046\n",
            "C(sexo)[T.M]                            0.7874      0.015     53.723      0.000       0.759       0.816\n",
            "C(posse_de_veiculo)[T.True]             0.0441      0.014      3.119      0.002       0.016       0.072\n",
            "C(posse_de_imovel)[T.True]              0.0829      0.014      5.926      0.000       0.055       0.110\n",
            "C(tipo_renda)[T.Bolsista]               0.2209      0.241      0.916      0.360      -0.252       0.694\n",
            "C(tipo_renda)[T.Empresário]             0.1551      0.015     10.387      0.000       0.126       0.184\n",
            "C(tipo_renda)[T.Pensionista]           -0.3087      0.241     -1.280      0.201      -0.782       0.164\n",
            "C(tipo_renda)[T.Servidor público]       0.0576      0.022      2.591      0.010       0.014       0.101\n",
            "C(educacao)[T.Pós graduação]            0.1071      0.159      0.673      0.501      -0.205       0.419\n",
            "C(educacao)[T.Secundário]              -0.0141      0.072     -0.196      0.844      -0.155       0.127\n",
            "C(educacao)[T.Superior completo]        0.0938      0.072      1.298      0.194      -0.048       0.235\n",
            "C(educacao)[T.Superior incompleto]     -0.0432      0.078     -0.555      0.579      -0.196       0.109\n",
            "C(estado_civil)[T.Separado]             0.3265      0.111      2.935      0.003       0.108       0.545\n",
            "C(estado_civil)[T.Solteiro]             0.2672      0.109      2.453      0.014       0.054       0.481\n",
            "C(estado_civil)[T.União]               -0.0343      0.025     -1.361      0.174      -0.084       0.015\n",
            "C(estado_civil)[T.Viúvo]                0.3689      0.116      3.191      0.001       0.142       0.596\n",
            "C(tipo_residencia)[T.Casa]             -0.0442      0.054     -0.815      0.415      -0.150       0.062\n",
            "C(tipo_residencia)[T.Com os pais]      -0.0258      0.060     -0.427      0.670      -0.144       0.093\n",
            "C(tipo_residencia)[T.Comunitário]      -0.1196      0.105     -1.135      0.256      -0.326       0.087\n",
            "C(tipo_residencia)[T.Estúdio]           0.0665      0.099      0.670      0.503      -0.128       0.261\n",
            "C(tipo_residencia)[T.Governamental]    -0.0571      0.066     -0.865      0.387      -0.186       0.072\n",
            "idade                                   0.0053      0.001      6.624      0.000       0.004       0.007\n",
            "tempo_emprego                           0.0617      0.001     59.398      0.000       0.060       0.064\n",
            "qt_pessoas_residencia                   0.2926      0.108      2.716      0.007       0.081       0.504\n",
            "qtd_filhos                             -0.2658      0.108     -2.463      0.014      -0.477      -0.054\n",
            "==============================================================================\n",
            "Omnibus:                        0.858   Durbin-Watson:                   2.023\n",
            "Prob(Omnibus):                  0.651   Jarque-Bera (JB):                0.839\n",
            "Skew:                           0.019   Prob(JB):                        0.657\n",
            "Kurtosis:                       3.012   Cond. No.                     2.18e+03\n",
            "==============================================================================\n",
            "\n",
            "Notes:\n",
            "[1] Standard Errors assume that the covariance matrix of the errors is correctly specified.\n",
            "[2] The condition number is large, 2.18e+03. This might indicate that there are\n",
            "strong multicollinearity or other numerical problems.\n"
          ]
        }
      ],
      "source": [
        "df['log_renda'] = np.log(df['renda'])\n",
        "\n",
        "formula = 'log_renda ~ idade + tempo_emprego + qt_pessoas_residencia + qtd_filhos + C(sexo) + C(posse_de_veiculo) + C(posse_de_imovel) + C(tipo_renda) + C(educacao) + C(estado_civil) + C(tipo_residencia)'\n",
        "\n",
        "# Criar matrizes de design usando patsy\n",
        "y, X = dmatrices(formula, data=df, return_type='dataframe')\n",
        "\n",
        "# Ajustar o modelo de regressão linear\n",
        "model = sm.OLS(y, X).fit()\n",
        "\n",
        "# Exibir o resumo inicial do modelo\n",
        "print(model.summary())"
      ]
    },
    {
      "cell_type": "code",
      "source": [
        "# Removendo a variavel com maior P>|t| (educação)\n",
        "\n",
        "formula_revisada = 'log_renda ~ idade + tempo_emprego + qt_pessoas_residencia + qtd_filhos + C(sexo) + C(posse_de_veiculo) + C(posse_de_imovel) + C(tipo_renda) + C(estado_civil) + C(tipo_residencia)'\n",
        "\n",
        "# Criar matrizes de design usando patsy\n",
        "y, X = dmatrices(formula_revisada, data=df, return_type='dataframe')\n",
        "\n",
        "# Ajustar o modelo de regressão linear\n",
        "model = sm.OLS(y, X).fit()\n",
        "\n",
        "# Exibir o resumo inicial do modelo\n",
        "print(model.summary())"
      ],
      "metadata": {
        "colab": {
          "base_uri": "https://localhost:8080/"
        },
        "id": "7WPo1N8wx9MK",
        "outputId": "0eafc089-8a5a-4ed5-f45a-79ee73133d3e"
      },
      "execution_count": null,
      "outputs": [
        {
          "output_type": "stream",
          "name": "stdout",
          "text": [
            "                            OLS Regression Results                            \n",
            "==============================================================================\n",
            "Dep. Variable:              log_renda   R-squared:                       0.354\n",
            "Model:                            OLS   Adj. R-squared:                  0.353\n",
            "Method:                 Least Squares   F-statistic:                     340.0\n",
            "Date:                Sat, 31 Aug 2024   Prob (F-statistic):               0.00\n",
            "Time:                        00:23:05   Log-Likelihood:                -13601.\n",
            "No. Observations:               12427   AIC:                         2.724e+04\n",
            "Df Residuals:                   12406   BIC:                         2.740e+04\n",
            "Df Model:                          20                                         \n",
            "Covariance Type:            nonrobust                                         \n",
            "=======================================================================================================\n",
            "                                          coef    std err          t      P>|t|      [0.025      0.975]\n",
            "-------------------------------------------------------------------------------------------------------\n",
            "Intercept                               6.6269      0.225     29.471      0.000       6.186       7.068\n",
            "C(sexo)[T.M]                            0.7800      0.015     53.208      0.000       0.751       0.809\n",
            "C(posse_de_veiculo)[T.True]             0.0533      0.014      3.769      0.000       0.026       0.081\n",
            "C(posse_de_imovel)[T.True]              0.0856      0.014      6.110      0.000       0.058       0.113\n",
            "C(tipo_renda)[T.Bolsista]               0.2988      0.242      1.237      0.216      -0.175       0.772\n",
            "C(tipo_renda)[T.Empresário]             0.1651      0.015     11.079      0.000       0.136       0.194\n",
            "C(tipo_renda)[T.Pensionista]           -0.2513      0.242     -1.039      0.299      -0.725       0.223\n",
            "C(tipo_renda)[T.Servidor público]       0.0754      0.022      3.400      0.001       0.032       0.119\n",
            "C(estado_civil)[T.Separado]             0.3238      0.112      2.903      0.004       0.105       0.542\n",
            "C(estado_civil)[T.Solteiro]             0.2616      0.109      2.396      0.017       0.048       0.476\n",
            "C(estado_civil)[T.União]               -0.0374      0.025     -1.481      0.139      -0.087       0.012\n",
            "C(estado_civil)[T.Viúvo]                0.3601      0.116      3.107      0.002       0.133       0.587\n",
            "C(tipo_residencia)[T.Casa]             -0.0369      0.054     -0.680      0.496      -0.143       0.069\n",
            "C(tipo_residencia)[T.Com os pais]      -0.0184      0.061     -0.304      0.761      -0.137       0.100\n",
            "C(tipo_residencia)[T.Comunitário]      -0.0772      0.105     -0.733      0.464      -0.284       0.129\n",
            "C(tipo_residencia)[T.Estúdio]           0.0855      0.100      0.859      0.390      -0.110       0.281\n",
            "C(tipo_residencia)[T.Governamental]    -0.0579      0.066     -0.875      0.382      -0.187       0.072\n",
            "idade                                   0.0049      0.001      6.185      0.000       0.003       0.006\n",
            "tempo_emprego                           0.0617      0.001     59.327      0.000       0.060       0.064\n",
            "qt_pessoas_residencia                   0.2846      0.108      2.634      0.008       0.073       0.496\n",
            "qtd_filhos                             -0.2567      0.108     -2.372      0.018      -0.469      -0.045\n",
            "==============================================================================\n",
            "Omnibus:                        1.217   Durbin-Watson:                   2.024\n",
            "Prob(Omnibus):                  0.544   Jarque-Bera (JB):                1.187\n",
            "Skew:                           0.021   Prob(JB):                        0.553\n",
            "Kurtosis:                       3.023   Cond. No.                     2.15e+03\n",
            "==============================================================================\n",
            "\n",
            "Notes:\n",
            "[1] Standard Errors assume that the covariance matrix of the errors is correctly specified.\n",
            "[2] The condition number is large, 2.15e+03. This might indicate that there are\n",
            "strong multicollinearity or other numerical problems.\n"
          ]
        }
      ]
    },
    {
      "cell_type": "markdown",
      "source": [
        "**Conclusão**\n",
        "\n",
        "\n",
        "\n",
        "*   O R² e o R² ajustado mudaram poquissimo\n",
        "*   Houve um pequeno aumento na estatística F, mostrando que o segundo caso é mais robusto que o primeiro.\n",
        "\n"
      ],
      "metadata": {
        "id": "IjRxli2syvCK"
      }
    },
    {
      "cell_type": "code",
      "source": [
        "#Removendo variaveis com P>|t| >0.05\n",
        "formula_final= 'log_renda ~ idade + tempo_emprego + qt_pessoas_residencia  + sexo + posse_de_veiculo + posse_de_imovel'\n",
        "\n",
        "# Criar matrizes de design usando patsy\n",
        "y, X = dmatrices(formula_final, data=df, return_type='dataframe')\n",
        "\n",
        "# Ajustar o modelo de regressão linear\n",
        "model = sm.OLS(y, X).fit()\n",
        "\n",
        "# Exibir o resumo inicial do modelo\n",
        "print(model.summary())"
      ],
      "metadata": {
        "colab": {
          "base_uri": "https://localhost:8080/"
        },
        "id": "X1a1sITHrAvr",
        "outputId": "7e237cf5-125b-4005-e5b7-e4a3476298ac"
      },
      "execution_count": null,
      "outputs": [
        {
          "output_type": "stream",
          "name": "stdout",
          "text": [
            "                            OLS Regression Results                            \n",
            "==============================================================================\n",
            "Dep. Variable:              log_renda   R-squared:                       0.346\n",
            "Model:                            OLS   Adj. R-squared:                  0.346\n",
            "Method:                 Least Squares   F-statistic:                     1097.\n",
            "Date:                Sat, 31 Aug 2024   Prob (F-statistic):               0.00\n",
            "Time:                        00:23:05   Log-Likelihood:                -13674.\n",
            "No. Observations:               12427   AIC:                         2.736e+04\n",
            "Df Residuals:                   12420   BIC:                         2.741e+04\n",
            "Df Model:                           6                                         \n",
            "Covariance Type:            nonrobust                                         \n",
            "============================================================================================\n",
            "                               coef    std err          t      P>|t|      [0.025      0.975]\n",
            "--------------------------------------------------------------------------------------------\n",
            "Intercept                    7.2045      0.039    185.009      0.000       7.128       7.281\n",
            "sexo[T.M]                    0.7681      0.015     52.652      0.000       0.740       0.797\n",
            "posse_de_veiculo[T.True]     0.0552      0.014      3.914      0.000       0.028       0.083\n",
            "posse_de_imovel[T.True]      0.0871      0.014      6.312      0.000       0.060       0.114\n",
            "idade                        0.0048      0.001      6.231      0.000       0.003       0.006\n",
            "tempo_emprego                0.0610      0.001     59.126      0.000       0.059       0.063\n",
            "qt_pessoas_residencia        0.0161      0.007      2.228      0.026       0.002       0.030\n",
            "==============================================================================\n",
            "Omnibus:                        1.250   Durbin-Watson:                   2.026\n",
            "Prob(Omnibus):                  0.535   Jarque-Bera (JB):                1.222\n",
            "Skew:                           0.022   Prob(JB):                        0.543\n",
            "Kurtosis:                       3.020   Cond. No.                         257.\n",
            "==============================================================================\n",
            "\n",
            "Notes:\n",
            "[1] Standard Errors assume that the covariance matrix of the errors is correctly specified.\n"
          ]
        }
      ]
    },
    {
      "cell_type": "markdown",
      "source": [
        "**Conclusão**\n",
        "\n",
        "* Modelo preferivel: Modelo 2.\n",
        "\n",
        "1. Parcimônia: O Modelo 2 é mais simples (menos variáveis), o que reduz a 1*\n",
        "complexidade e o risco de overfitting (ajuste excessivo ao conjunto de dados de treino).\n",
        "2. F-Statistic: O valor mais alto de F-statistic indica que o Modelo 2 é significativamente robusto com menos variáveis.\n",
        "3. Significância das Variáveis: O Modelo 2 inclui apenas variáveis significativas ou quase significativas, o que melhora a interpretabilidade do modelo.\n",
        "4. Diferença de R² é Pequena: A diferença no R² ajustado entre os dois modelos é mínima (apenas 0.01), o que significa que a simplificação do Modelo 2 não resulta em uma perda substancial na capacidade de explicar a variância.\n",
        "\n",
        "*obs: o F-Statistic alto pode ser um caso de overfitting mas seria necessario adicionar mais dados ao conjunto para se ter certeza*"
      ],
      "metadata": {
        "id": "PtUUxyk_zpHT"
      }
    }
  ],
  "metadata": {
    "kernelspec": {
      "display_name": "Python 3",
      "language": "python",
      "name": "python3"
    },
    "language_info": {
      "codemirror_mode": {
        "name": "ipython",
        "version": 3
      },
      "file_extension": ".py",
      "mimetype": "text/x-python",
      "name": "python",
      "nbconvert_exporter": "python",
      "pygments_lexer": "ipython3",
      "version": "3.8.5"
    },
    "colab": {
      "provenance": []
    }
  },
  "nbformat": 4,
  "nbformat_minor": 0
}