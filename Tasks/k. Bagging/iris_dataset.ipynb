{
 "cells": [
  {
   "cell_type": "markdown",
   "id": "8633c52a-9b34-4c1a-8e19-bff6b188c3d5",
   "metadata": {},
   "source": [
    "# Exercicio 1 módulo 23 - **Combinação de Modelos I**"
   ]
  },
  {
   "cell_type": "markdown",
   "id": "6dc59af3-455f-4b32-9055-70aaffdc7443",
   "metadata": {},
   "source": [
    "### 1- Monte um passo a passo para o **Bagging**"
   ]
  },
  {
   "cell_type": "markdown",
   "id": "a7370a4d-d18d-49d7-9e71-3994c5de0cc9",
   "metadata": {
    "jp-MarkdownHeadingCollapsed": true
   },
   "source": [
    "**Passo 1**\n",
    "\n",
    "* **Preparação dos dados**\n",
    "1. Carregue os dados \n",
    "2. Certifique-se de que os dados já estejam *normalizados e padronizados*\n",
    "3. Os divida em treino e teste\n",
    "\n",
    "**Passo 2**\n",
    "\n",
    "* **Gerar subconjuntos dos dados ( *Bootstrap* )**\n",
    "1. A partir do conjunto de treino **original** gere multiplos subconjuntos de dados\n",
    "2. Para cada subconjunto use a técnica **Amostra com Reposição**, ou seja, escolha amostras *aleatórias* e permita *repetições*\n",
    "\n",
    "**Passo 3**\n",
    "\n",
    "* **Treinar um modelo para cada *subconjunto* gerado**\n",
    "1. Para cada *subconjunto* criado, treine ele em um **modelo independente** ( *exemplo: Arvore de regressão* )\n",
    "\n",
    "**Passo 4**\n",
    "* **Fazer previsões**\n",
    "1. Após todos os *subconjuntos* serem treinados, utilize eles para fazer **previsões** sobre os dados de testes\n",
    "\n",
    "**Passo 5**\n",
    "* **Agregar as previsões**\n",
    "1. Combine a **previsão dos subconjuntos** para chegar a uma **previsão final**\n",
    "   1. Para problemas de **classificação** se utiliza a *votação majoritária*\n",
    "   2. Para problemas de **regressão**, se utiliza a *média das previsões*\n",
    "   "
   ]
  },
  {
   "cell_type": "markdown",
   "id": "b26d1cf7-c7c3-4df3-8f7f-088112f074c1",
   "metadata": {},
   "source": [
    "### 2- Explique em suas palavras o **Bagging**"
   ]
  },
  {
   "cell_type": "markdown",
   "id": "ce529f59-232a-464e-a96e-b4e1ab067450",
   "metadata": {},
   "source": [
    "* Analogia com uma *Salada de Frutas*\n",
    "\n",
    "1. Você possui uma **Salada de Frutas** *( dataframe )*.\n",
    "   \n",
    "2. Em sua **Salada de Frutas** você possui diversas **frutas**, cada uma com suas **propriedades** como **cor**, **tamanho**, **nutrientes** etc... *( Linhas e colunas* ).\n",
    "   \n",
    "3. você então, pega com uma **grande colher** um **numero X** de **frutas sortidas**, você então anota quais frutas foram pegas e as devolve a salada de frutas *( Subconjuntos com o método *Amostragem com reposição )*.\n",
    "   \n",
    "4. Após **repetir esse processo enumeras vezes**, você percebe que anotou diversas vezes e muitas até possuíam as mesmas frutas repetidas vezes.\n",
    "   \n",
    "5. Depois de analisar as anotações com cuidado você pode ver qual fruta se repete mais vezes, qual cor se repete mais frequentemente, a média do tamanho entre as frutas e diversas informações.\n",
    "\n",
    "---\n",
    "   \n",
    "* Explicação de forma mais técnica para: **Bootstrap Aggregating** *( Bagging )*\n",
    "\n",
    "O método **Bagging** ( do inglês, *Bootstrap Aggregating* ) é uma técnica de aprendizado de máquina utilizado para melhorar a precisão de modelos. Ele funciona criando múltiplos subconjuntos da base de dados original, treinando modelos separados em cada subconjunto e, em seguida, combinando os resultados para obter uma previsão final mais robusta.\n",
    "\n"
   ]
  },
  {
   "cell_type": "markdown",
   "id": "c8aa1480-1041-46f8-9117-36447fd3cc21",
   "metadata": {},
   "source": [
    "### 3 (opcional) - Implementar em **Python** o código do *Bagging*"
   ]
  },
  {
   "cell_type": "markdown",
   "id": "647dd1a6-5a93-4773-ad24-fdb2e1501148",
   "metadata": {},
   "source": [
    "* Nesse caso, ao implementar o código do *bagging* tentei utilizar a analogia com a **salada de frutas** para maior compreensão."
   ]
  },
  {
   "cell_type": "code",
   "execution_count": 1,
   "id": "0ccde05b-f920-44ac-b4d4-3c2788ab51ba",
   "metadata": {},
   "outputs": [],
   "source": [
    "import numpy                 as     np\n",
    "import pandas                as     pd\n",
    "\n",
    "\n",
    "from sklearn.ensemble        import BaggingClassifier\n",
    "from sklearn.tree            import DecisionTreeClassifier\n",
    "from sklearn.model_selection import train_test_split\n",
    "from sklearn.metrics         import accuracy_score\n",
    "from sklearn.metrics         import confusion_matrix\n",
    "from sklearn.metrics         import classification_report\n",
    "from sklearn.model_selection import cross_val_score\n",
    "\n",
    "from sklearn.datasets        import load_iris  # O dataset Iris do sklearn será a nossa salada de frutas"
   ]
  },
  {
   "cell_type": "code",
   "execution_count": 2,
   "id": "25c37403-4377-4e67-ba2f-2f064e3f6dc6",
   "metadata": {},
   "outputs": [],
   "source": [
    "# 1. Preparando nossa \"Salada de Frutas\"\n",
    "\n",
    "data = load_iris()  # Neste caso, é uma salada com 3 tipos de frutas (classes) e várias propriedades.\n",
    "X, y = data.data, data.target  # X são as propriedades (cor, tamanho, etc.) e y são os tipos de fruta.b"
   ]
  },
  {
   "cell_type": "code",
   "execution_count": 3,
   "id": "5183c18a-4690-4f39-818a-483324cae016",
   "metadata": {},
   "outputs": [
    {
     "data": {
      "text/html": [
       "<div>\n",
       "<style scoped>\n",
       "    .dataframe tbody tr th:only-of-type {\n",
       "        vertical-align: middle;\n",
       "    }\n",
       "\n",
       "    .dataframe tbody tr th {\n",
       "        vertical-align: top;\n",
       "    }\n",
       "\n",
       "    .dataframe thead th {\n",
       "        text-align: right;\n",
       "    }\n",
       "</style>\n",
       "<table border=\"1\" class=\"dataframe\">\n",
       "  <thead>\n",
       "    <tr style=\"text-align: right;\">\n",
       "      <th></th>\n",
       "      <th>sepal length (cm)</th>\n",
       "      <th>sepal width (cm)</th>\n",
       "      <th>petal length (cm)</th>\n",
       "      <th>petal width (cm)</th>\n",
       "      <th>target</th>\n",
       "      <th>class</th>\n",
       "    </tr>\n",
       "  </thead>\n",
       "  <tbody>\n",
       "    <tr>\n",
       "      <th>0</th>\n",
       "      <td>5.1</td>\n",
       "      <td>3.5</td>\n",
       "      <td>1.4</td>\n",
       "      <td>0.2</td>\n",
       "      <td>0</td>\n",
       "      <td>setosa</td>\n",
       "    </tr>\n",
       "    <tr>\n",
       "      <th>1</th>\n",
       "      <td>4.9</td>\n",
       "      <td>3.0</td>\n",
       "      <td>1.4</td>\n",
       "      <td>0.2</td>\n",
       "      <td>0</td>\n",
       "      <td>setosa</td>\n",
       "    </tr>\n",
       "    <tr>\n",
       "      <th>2</th>\n",
       "      <td>4.7</td>\n",
       "      <td>3.2</td>\n",
       "      <td>1.3</td>\n",
       "      <td>0.2</td>\n",
       "      <td>0</td>\n",
       "      <td>setosa</td>\n",
       "    </tr>\n",
       "    <tr>\n",
       "      <th>3</th>\n",
       "      <td>4.6</td>\n",
       "      <td>3.1</td>\n",
       "      <td>1.5</td>\n",
       "      <td>0.2</td>\n",
       "      <td>0</td>\n",
       "      <td>setosa</td>\n",
       "    </tr>\n",
       "    <tr>\n",
       "      <th>4</th>\n",
       "      <td>5.0</td>\n",
       "      <td>3.6</td>\n",
       "      <td>1.4</td>\n",
       "      <td>0.2</td>\n",
       "      <td>0</td>\n",
       "      <td>setosa</td>\n",
       "    </tr>\n",
       "    <tr>\n",
       "      <th>...</th>\n",
       "      <td>...</td>\n",
       "      <td>...</td>\n",
       "      <td>...</td>\n",
       "      <td>...</td>\n",
       "      <td>...</td>\n",
       "      <td>...</td>\n",
       "    </tr>\n",
       "    <tr>\n",
       "      <th>145</th>\n",
       "      <td>6.7</td>\n",
       "      <td>3.0</td>\n",
       "      <td>5.2</td>\n",
       "      <td>2.3</td>\n",
       "      <td>2</td>\n",
       "      <td>virginica</td>\n",
       "    </tr>\n",
       "    <tr>\n",
       "      <th>146</th>\n",
       "      <td>6.3</td>\n",
       "      <td>2.5</td>\n",
       "      <td>5.0</td>\n",
       "      <td>1.9</td>\n",
       "      <td>2</td>\n",
       "      <td>virginica</td>\n",
       "    </tr>\n",
       "    <tr>\n",
       "      <th>147</th>\n",
       "      <td>6.5</td>\n",
       "      <td>3.0</td>\n",
       "      <td>5.2</td>\n",
       "      <td>2.0</td>\n",
       "      <td>2</td>\n",
       "      <td>virginica</td>\n",
       "    </tr>\n",
       "    <tr>\n",
       "      <th>148</th>\n",
       "      <td>6.2</td>\n",
       "      <td>3.4</td>\n",
       "      <td>5.4</td>\n",
       "      <td>2.3</td>\n",
       "      <td>2</td>\n",
       "      <td>virginica</td>\n",
       "    </tr>\n",
       "    <tr>\n",
       "      <th>149</th>\n",
       "      <td>5.9</td>\n",
       "      <td>3.0</td>\n",
       "      <td>5.1</td>\n",
       "      <td>1.8</td>\n",
       "      <td>2</td>\n",
       "      <td>virginica</td>\n",
       "    </tr>\n",
       "  </tbody>\n",
       "</table>\n",
       "<p>150 rows × 6 columns</p>\n",
       "</div>"
      ],
      "text/plain": [
       "     sepal length (cm)  sepal width (cm)  petal length (cm)  petal width (cm)  \\\n",
       "0                  5.1               3.5                1.4               0.2   \n",
       "1                  4.9               3.0                1.4               0.2   \n",
       "2                  4.7               3.2                1.3               0.2   \n",
       "3                  4.6               3.1                1.5               0.2   \n",
       "4                  5.0               3.6                1.4               0.2   \n",
       "..                 ...               ...                ...               ...   \n",
       "145                6.7               3.0                5.2               2.3   \n",
       "146                6.3               2.5                5.0               1.9   \n",
       "147                6.5               3.0                5.2               2.0   \n",
       "148                6.2               3.4                5.4               2.3   \n",
       "149                5.9               3.0                5.1               1.8   \n",
       "\n",
       "     target      class  \n",
       "0         0     setosa  \n",
       "1         0     setosa  \n",
       "2         0     setosa  \n",
       "3         0     setosa  \n",
       "4         0     setosa  \n",
       "..      ...        ...  \n",
       "145       2  virginica  \n",
       "146       2  virginica  \n",
       "147       2  virginica  \n",
       "148       2  virginica  \n",
       "149       2  virginica  \n",
       "\n",
       "[150 rows x 6 columns]"
      ]
     },
     "execution_count": 3,
     "metadata": {},
     "output_type": "execute_result"
    }
   ],
   "source": [
    "# Visualização do dataframe para melhor comrpeensão do que a nossa salada de fruta se trata\n",
    "\n",
    "iris = load_iris()\n",
    "df = pd.DataFrame(data=iris.data, columns=iris.feature_names)\n",
    "df['target'] = iris.target\n",
    "class_mapping = {0: 'setosa', 1: 'versicolor', 2: 'virginica'}\n",
    "df['class'] = df['target'].map(class_mapping)\n",
    "\n",
    "df"
   ]
  },
  {
   "cell_type": "code",
   "execution_count": 4,
   "id": "ba066bae-3170-4038-a142-0b6c18d98e94",
   "metadata": {},
   "outputs": [],
   "source": [
    "# 2. Dividir a Salada em Treino e Teste (separando um pouco para experimentarmos depois)\n",
    "X_train, X_test, y_train, y_test = train_test_split(X, y, test_size=0.3, random_state=27)\n",
    "\n",
    "# 3. Usando uma \"Grande Colher\" para pegar subconjuntos da salada\n",
    "bagging_model = BaggingClassifier(\n",
    "    estimator=DecisionTreeClassifier(),  \n",
    "    n_estimators=15,  # Número de colheres, ou quantas vezes vamos pegar subconjuntos da salada.\n",
    "    random_state=27\n",
    ")\n",
    "\n",
    "# 4. Treinando o modelo (Anotando as frutas de cada colherada)\n",
    "# O modelo de Bagging agora vai pegar 15 subconjuntos diferentes da salada, com reposição, e anotar as frutas de cada colher.\n",
    "bagging_model.fit(X_train, y_train)\n",
    "\n",
    "# 5. Fazendo previsões (Combinando nossas anotações)\n",
    "# Usamos o modelo treinado para prever qual fruta mais aparece, usando os dados de teste.\n",
    "y_pred = bagging_model.predict(X_test)"
   ]
  },
  {
   "cell_type": "code",
   "execution_count": 5,
   "id": "adea4cd6-2cc8-4c7d-bae5-1dc8eece814f",
   "metadata": {},
   "outputs": [
    {
     "name": "stdout",
     "output_type": "stream",
     "text": [
      "Accuracy: 91.11%\n"
     ]
    }
   ],
   "source": [
    "# 6.1. Avaliando os resultados\n",
    "# Acuracia.\n",
    "accuracy = accuracy_score(y_test, y_pred)\n",
    "print(f\"Accuracy: {accuracy * 100:.2f}%\")"
   ]
  },
  {
   "cell_type": "markdown",
   "id": "ac01a913-b12a-4331-b69e-0d1d91b42444",
   "metadata": {},
   "source": [
    "* Um bom desempenho geral do sistema"
   ]
  },
  {
   "cell_type": "code",
   "execution_count": 6,
   "id": "c0c4dda9-c818-45a6-bb02-19e579bcbc0a",
   "metadata": {},
   "outputs": [
    {
     "name": "stdout",
     "output_type": "stream",
     "text": [
      "Matriz de Confusão:\n",
      " [[12  0  0]\n",
      " [ 0 14  2]\n",
      " [ 0  2 15]]\n"
     ]
    }
   ],
   "source": [
    "\n",
    "# Matriz de confusão\n",
    "conf_matrix = confusion_matrix(y_test, y_pred)\n",
    "print(\"Matriz de Confusão:\\n\", conf_matrix)"
   ]
  },
  {
   "cell_type": "markdown",
   "id": "7e63a055-3816-4359-b52b-150001e4c162",
   "metadata": {},
   "source": [
    "Significado: A matriz de confusão mostra as previsões corretas e incorretas para cada classe.\n",
    "* Linha 1 (Setosa): Previsões corretas para a classe Setosa são 12 (nenhum erro).\n",
    "* Linha 2 (Versicolor): 14 previsões corretas e 2 incorretas, onde duas foram classificadas como Virginica.\n",
    "* Linha 3 (Virginica): 16 previsões corretas e 1 incorreta, onde uma foi classificada como Versicolor.\n",
    "\n",
    "**Interpretação**: A classe Setosa é perfeitamente classificada, enquanto as classes Versicolor e Virginica têm pequenos erros. Esses erros são uma indicação de que o modelo ocasionalmente confunde essas duas classes."
   ]
  },
  {
   "cell_type": "code",
   "execution_count": 7,
   "id": "cbbaa931-574a-42df-8d94-b9ac5c709d88",
   "metadata": {
    "scrolled": true
   },
   "outputs": [
    {
     "name": "stdout",
     "output_type": "stream",
     "text": [
      "Relatório de Classificação:\n",
      "               precision    recall  f1-score   support\n",
      "\n",
      "      setosa       1.00      1.00      1.00        12\n",
      "  versicolor       0.88      0.88      0.88        16\n",
      "   virginica       0.88      0.88      0.88        17\n",
      "\n",
      "    accuracy                           0.91        45\n",
      "   macro avg       0.92      0.92      0.92        45\n",
      "weighted avg       0.91      0.91      0.91        45\n",
      "\n"
     ]
    }
   ],
   "source": [
    "# 6.3 Avaliando os resultados\n",
    "# Relatório de Classificação\n",
    "report = classification_report(y_test, y_pred, target_names=data.target_names)\n",
    "print(\"Relatório de Classificação:\\n\", report)"
   ]
  },
  {
   "cell_type": "markdown",
   "id": "e4c8ae01-1739-4d52-8ee3-decd421ad6ba",
   "metadata": {},
   "source": [
    "* **Precisão**: Mede a proporção de previsões corretas para uma classe específica. Exemplo: para Versicolor, 93% das previsões que o modelo classificou como Versicolor eram realmente Versicolor.\n",
    "\n",
    "* **Revocação**: Mede a capacidade do modelo de encontrar todas as instâncias reais de uma classe. Exemplo: Virginica tem recall de 0.94, significando que ele detectou 94% dos Virginicas no conjunto de teste.\n",
    "\n",
    "* **F1-Score**: Combina precisão e revocação em uma única métrica equilibrada. Quanto maior o F1-score, melhor o modelo está em evitar tanto falsos positivos quanto falsos negativos.\n",
    "\n",
    "* **Interpretação**: O modelo tem ótimo desempenho para a *classe Setosa* (1.00 para todas as métricas) e também funciona bem com *Versicolor e Virginica*, embora haja uma pequena confusão entre elas, conforme mostrado pela ligeira queda nos **F1-scores** (0.90 e 0.91)."
   ]
  },
  {
   "cell_type": "code",
   "execution_count": 8,
   "id": "179adda0-4976-4cc7-8792-c9ca40feb6c6",
   "metadata": {},
   "outputs": [
    {
     "name": "stdout",
     "output_type": "stream",
     "text": [
      "Probabilidades das Previsões:\n",
      " [[0.         0.         1.        ]\n",
      " [1.         0.         0.        ]\n",
      " [0.         0.         1.        ]\n",
      " [0.         0.         1.        ]\n",
      " [0.         1.         0.        ]\n",
      " [0.         1.         0.        ]\n",
      " [0.         1.         0.        ]\n",
      " [0.         0.         1.        ]\n",
      " [0.         0.         1.        ]\n",
      " [1.         0.         0.        ]\n",
      " [0.         1.         0.        ]\n",
      " [0.         0.8        0.2       ]\n",
      " [1.         0.         0.        ]\n",
      " [0.         1.         0.        ]\n",
      " [0.         1.         0.        ]\n",
      " [0.         1.         0.        ]\n",
      " [1.         0.         0.        ]\n",
      " [0.         0.         1.        ]\n",
      " [0.         0.         1.        ]\n",
      " [0.         0.         1.        ]\n",
      " [0.         1.         0.        ]\n",
      " [1.         0.         0.        ]\n",
      " [0.         1.         0.        ]\n",
      " [1.         0.         0.        ]\n",
      " [0.         0.         1.        ]\n",
      " [0.         0.06666667 0.93333333]\n",
      " [0.         1.         0.        ]\n",
      " [1.         0.         0.        ]\n",
      " [0.         0.53333333 0.46666667]\n",
      " [0.         0.         1.        ]\n",
      " [0.         0.         1.        ]\n",
      " [1.         0.         0.        ]\n",
      " [0.         0.         1.        ]\n",
      " [0.         1.         0.        ]\n",
      " [0.         1.         0.        ]\n",
      " [1.         0.         0.        ]\n",
      " [0.         1.         0.        ]\n",
      " [0.         0.         1.        ]\n",
      " [0.         1.         0.        ]\n",
      " [1.         0.         0.        ]\n",
      " [1.         0.         0.        ]\n",
      " [0.         0.         1.        ]\n",
      " [0.         0.         1.        ]\n",
      " [0.         0.         1.        ]\n",
      " [1.         0.         0.        ]]\n"
     ]
    }
   ],
   "source": [
    "# 6.4 Avaliando os resultados\n",
    "# Probabilidade das previsões\n",
    "y_prob = bagging_model.predict_proba(X_test)\n",
    "print(\"Probabilidades das Previsões:\\n\", y_prob)"
   ]
  },
  {
   "cell_type": "markdown",
   "id": "6f992867-b308-4a62-ab46-0613e3f10b4e",
   "metadata": {},
   "source": [
    "**Interpretação**: As probabilidades mostram a \"certeza\" do modelo em cada previsão. Probabilidades como **[0, 0.766, 0.233]** indicam que o modelo não está totalmente seguro sobre uma única classe, o que pode indicar instâncias mais difíceis de classificar corretamente."
   ]
  },
  {
   "cell_type": "code",
   "execution_count": 9,
   "id": "eeae707f-2468-4036-bbfb-341798200864",
   "metadata": {
    "scrolled": true
   },
   "outputs": [
    {
     "name": "stdout",
     "output_type": "stream",
     "text": [
      "Validação Cruzada - Acurácias em cada divisão: [0.96666667 0.96666667 0.9        1.         1.        ]\n",
      "Média da Validação Cruzada: 0.9666666666666668\n"
     ]
    }
   ],
   "source": [
    "# 6.5 Avaliando os resultados\n",
    "# Validação cruzada\n",
    "scores = cross_val_score(bagging_model, X, y, cv=5)\n",
    "print(\"Validação Cruzada - Acurácias em cada divisão:\", scores)\n",
    "print(\"Média da Validação Cruzada:\", scores.mean())"
   ]
  },
  {
   "cell_type": "markdown",
   "id": "8862ae34-75ec-4ff4-9a9d-bc031631cc00",
   "metadata": {},
   "source": [
    "**Acurácias em cada divisão**: [0.96666667, 0.96666667, 0.9, 0.96666667, 1.0]\n",
    "\n",
    "**Média da Validação Cruzada**: 0.96\n",
    "\n",
    "**Interpretação**: O desempenho do modelo é consistente e alto em todos os subconjuntos, o que sugere que ele generaliza bem e tem um desempenho estável em diferentes divisões dos dados."
   ]
  }
 ],
 "metadata": {
  "kernelspec": {
   "display_name": "Python 3 (ipykernel)",
   "language": "python",
   "name": "python3"
  },
  "language_info": {
   "codemirror_mode": {
    "name": "ipython",
    "version": 3
   },
   "file_extension": ".py",
   "mimetype": "text/x-python",
   "name": "python",
   "nbconvert_exporter": "python",
   "pygments_lexer": "ipython3",
   "version": "3.11.9"
  }
 },
 "nbformat": 4,
 "nbformat_minor": 5
}
