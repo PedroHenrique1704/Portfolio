{
  "cells": [
    {
      "cell_type": "markdown",
      "metadata": {
        "tags": [],
        "id": "twKEg_YNgJFt"
      },
      "source": [
        "# Árvores II - Tarefa I"
      ]
    },
    {
      "cell_type": "markdown",
      "metadata": {
        "id": "6to0dg0RgJFu"
      },
      "source": [
        "![image.png](attachment:f65bd82d-aa56-4cf2-8030-bb758771f332.png)  \n",
        "[fonte](https://momentum.org/programs-services/manage-your-money/savings-app/pxfuel-creative-commons-zero-cc0-iphone-smartphone-cell-phone-mobile-technology-texting/)\n",
        "\n",
        "Neste exercício vamos trabalhar com a base de dados de identificação de atividade humana com smartphones. Smartphones possuem acelerômetro e giroscópio, que registram dados de aceleração e giro nos eixos X, Y e Z, com frequencia de 50 Hz (ou seja, 50 registros por segundo). Os dados foram agrupados a medidas de 0.3 Hz, calculando-se variáveis derivadas como aceleração mínima, máxima, média etc por eixo no período agrupado de tempo, resultando em 561 variáveis que podem ser lidas nas bases disponíveis.\n",
        "\n",
        "A base é oriunda de um experimento, em que os indivíduos realizavam uma de seis atividades corriqueiras:\n",
        "- andando\n",
        "- subindo escada\n",
        "- descendo escada\n",
        "- parado\n",
        "- sentado\n",
        "- deitado\n",
        "\n",
        "O objetivo é classificar a atividade humana com base nos dados do acelerômetro e giroscópio do celular."
      ]
    },
    {
      "cell_type": "markdown",
      "metadata": {
        "id": "F7JxCqYAgJFw"
      },
      "source": [
        "### 1. Carregar a base\n",
        "\n",
        "Sua primeira atividade é carregar a base.\n",
        "\n",
        "Ela está disponível neste link:\n",
        "https://archive.ics.uci.edu/ml/datasets/human+activity+recognition+using+smartphones\n",
        "\n",
        "dados https://archive.ics.uci.edu/ml/machine-learning-databases/00240/  \n",
        "dataset.names https://archive.ics.uci.edu/ml/machine-learning-databases/00240/UCI%20HAR%20Dataset.names  \n",
        "UCI HAR Dataset.zip https://archive.ics.uci.edu/ml/machine-learning-databases/00240/UCI%20HAR%20Dataset.zip\n",
        "\n",
        "Você vai encontrar os seguintes arquivos:\n",
        "\n",
        "- **features.txt:** contém a lista com os nomes das variáveis\n",
        "- **features_info.txt:** contém a descrição das variáveis\n",
        "- **README.txt:** contém uma descrição do estudo e das bases\n",
        "- **activity_labels:** contém o código da atividade (inteiro entre 1 e 6) e a descrição\n",
        "- **subject_train.txt:** uma lista indicando que registro pertence a que indivíduo na base de treino\n",
        "- **X_train.txt:** as *features* (ou variáveis explicativas) da base de testes. Cada linha representa um registro das informações de um indivíduo em um intervalo de tempo de aproximadamente 1/0.3 segundo. As medidas estão em ordem temporal dentro do estudo, e o indivíduo que originou a medida está identificado na base subject_train.txt.\n",
        "- **y_train.txt:** Possui o mesmo número de linhas que X_test. Contém um número de 1 a 6 indicando a atividade que estava sendo realizada por aquele registro na base de treino.\n",
        "- **subject_test.txt:** uma lista indicando que registro pertence a que indivíduo na base de teste\n",
        "- **X_test.txt:** as *features* (ou variáveis explicativas) da base de testes. Cada linha representa um registro das informações de um indivíduo em um intervalo de tempo de aproximadamente 1/0.3 segundo. As medidas estão em ordem temporal dentro do estudo, e o indivíduo que originou a medida está identificado na base subject_test.txt.\n",
        "- **y_test.txt:** Possui o mesmo número de linhas que X_train. Contém um número de 1 a 6 indicando a atividade que estava sendo realizada por aquele registro na base de teste.\n",
        "\n",
        "Carregue as bases:\n",
        "\n",
        "1. Faça o download dos arquivos.\n",
        "2. Carregue a base ```features.txt``` em uma *Series* (por exemplo usando o comando ```pd.read_csv()```.\n",
        "3. Carregue a base subject_train.txt em uma *Series*\n",
        "4. Carregue a base X_train.txt\n",
        "    1. Faça com que as colunas deste *dataframe* tenham os nomes indicados em ```features.txt```\n",
        "    2. Sem alterar a ordem dos *dataframes*, coloque o indicador do indivíduo lido em ```subject_train.txt``` como uma variável a mais neste *dataframe***\n",
        "    3. Faça com que este *dataframe* tenha um índice duplo, composto pela ordem dos dados e pelo identificador do indivíduo\n",
        "5. Com a mesma lógica, carregue a base X_test\n",
        "    1. Certifique-se de que tenha os nomes lidos em ```features.txt```\n",
        "    2. Coloque o identificador do sujeito lido em ```subject_test.txt```\n",
        "    3. Defina um índice duplo composto pela ordem do registro e o identificador do registro\n",
        "6. Salve as bases em arquivos CSV para facilitar a leitura deles na terefa 2 deste módulo\n",
        "7. Considere que esta base é maior que a da aula, tanto em linhas quanto em colunas. Selecione apenas as três primeiras colunas da base ('tBodyAcc-mean()-X', 'tBodyAcc-mean()-Y' e 'tBodyAcc-mean()-Z'), para efeitos desse exercício.\n",
        "\n",
        "**OBS:** As bases já estão divididas em treino e teste, de modo que não vamos precisar da função ```train_test_split```."
      ]
    },
    {
      "cell_type": "code",
      "execution_count": 1,
      "metadata": {
        "id": "cNmTbCcHgJFx"
      },
      "outputs": [],
      "source": [
        "import pandas as pd\n",
        "from sklearn.tree import DecisionTreeClassifier\n",
        "import numpy as np\n",
        "import matplotlib.pyplot as plt\n",
        "from sklearn.metrics import accuracy_score"
      ]
    },
    {
      "cell_type": "code",
      "execution_count": 2,
      "metadata": {
        "tags": [],
        "id": "YilYPzFngJFy"
      },
      "outputs": [],
      "source": [
        "# 2\n",
        "features = pd.read_csv('./txt/features.txt', sep='\\s+', header=None, names=['index', 'feature_name'])\n",
        "feature_names = features['feature_name'].values  # Pegar somente os nomes das variáveis"
      ]
    },
    {
      "cell_type": "code",
      "execution_count": 3,
      "metadata": {
        "id": "IrCgrdj8gJFy"
      },
      "outputs": [],
      "source": [
        "#3 Carregar subject_train.txt\n",
        "subject_train = pd.read_csv('./txt/subject_train.txt', header=None, names=['subject'])"
      ]
    },
    {
      "cell_type": "code",
      "source": [
        "# 4 Carregar X_train.txt\n",
        "X_train = pd.read_csv('./txt/X_train.txt', delim_whitespace=True, header=None)\n",
        "# 4.1 Atribuir os nomes das variáveis às colunas do DataFrame\n",
        "X_train.columns = feature_names\n",
        "#4.2 Adicionar a coluna de sujeito\n",
        "X_train['subject'] = subject_train\n",
        "#4.3 Adicionar o índice duplo\n",
        "X_train.set_index([X_train.index, 'subject'], inplace=True)"
      ],
      "metadata": {
        "colab": {
          "base_uri": "https://localhost:8080/"
        },
        "id": "QRv3k4E8idkC",
        "outputId": "d6a19646-80f9-4154-e150-7a1c905454b6"
      },
      "execution_count": 4,
      "outputs": [
        {
          "output_type": "stream",
          "name": "stderr",
          "text": [
            "<ipython-input-4-5930513e2cd7>:2: FutureWarning: The 'delim_whitespace' keyword in pd.read_csv is deprecated and will be removed in a future version. Use ``sep='\\s+'`` instead\n",
            "  X_train = pd.read_csv('./txt/X_train.txt', delim_whitespace=True, header=None)\n"
          ]
        }
      ]
    },
    {
      "cell_type": "code",
      "source": [
        "#5 Carregar subject_test.txt\n",
        "subject_test = pd.read_csv('./txt/subject_test.txt', header=None, names=['subject'])\n",
        "\n",
        "# 5.1 Carregar X_test.txt\n",
        "X_test = pd.read_csv('./txt/X_test.txt', delim_whitespace=True, header=None)\n",
        "X_test.columns = feature_names\n",
        "\n",
        "# 5.2 Adicionar a coluna de sujeito\n",
        "X_test['subject'] = subject_test\n",
        "\n",
        "# 5.3 Adicionar o índice duplo\n",
        "X_test.set_index([X_test.index, 'subject'], inplace=True)"
      ],
      "metadata": {
        "colab": {
          "base_uri": "https://localhost:8080/"
        },
        "id": "2bp-Bkj4ij7h",
        "outputId": "1bb93244-2018-48f7-cfb3-b2d8f4fe6c54"
      },
      "execution_count": 5,
      "outputs": [
        {
          "output_type": "stream",
          "name": "stderr",
          "text": [
            "<ipython-input-5-5318a72162f8>:5: FutureWarning: The 'delim_whitespace' keyword in pd.read_csv is deprecated and will be removed in a future version. Use ``sep='\\s+'`` instead\n",
            "  X_test = pd.read_csv('./txt/X_test.txt', delim_whitespace=True, header=None)\n"
          ]
        }
      ]
    },
    {
      "cell_type": "code",
      "source": [
        "# 6 Salvar as bases\n",
        "X_train.to_csv('X_train_processed.csv')\n",
        "X_test.to_csv('X_test_processed.csv')"
      ],
      "metadata": {
        "id": "ttqearFIil-o"
      },
      "execution_count": 6,
      "outputs": []
    },
    {
      "cell_type": "code",
      "source": [
        "'''\n",
        "# 6 (collab)\n",
        "from google.colab import files\n",
        "files.download('./txt/X_train_processed.csv')\n",
        "files.download('./txt/X_test_processed.csv')\n",
        "'''"
      ],
      "metadata": {
        "colab": {
          "base_uri": "https://localhost:8080/",
          "height": 35
        },
        "id": "VquQhnfWld8O",
        "outputId": "2b7db779-5d8d-4f8e-a4d7-26f4fd3db9c9"
      },
      "execution_count": 7,
      "outputs": [
        {
          "output_type": "execute_result",
          "data": {
            "text/plain": [
              "\"\\n# 6 (collab)\\nfrom google.colab import files\\nfiles.download('./txt/X_train_processed.csv')\\nfiles.download('./txt/X_test_processed.csv')\\n\""
            ],
            "application/vnd.google.colaboratory.intrinsic+json": {
              "type": "string"
            }
          },
          "metadata": {},
          "execution_count": 7
        }
      ]
    },
    {
      "cell_type": "code",
      "source": [
        "X_train_selected = X_train[['tBodyAcc-mean()-X', 'tBodyAcc-mean()-Y', 'tBodyAcc-mean()-Z']]\n",
        "X_test_selected = X_test[['tBodyAcc-mean()-X', 'tBodyAcc-mean()-Y', 'tBodyAcc-mean()-Z']]"
      ],
      "metadata": {
        "id": "ZHtQBUTYiojy"
      },
      "execution_count": 8,
      "outputs": []
    },
    {
      "cell_type": "markdown",
      "metadata": {
        "id": "R8IEvzcLgJFy"
      },
      "source": [
        "### 2. Ajustar uma árvore de decisão\n",
        "\n",
        "- 2.1 ajuste uma árvore de decisão com número mínimo de observações por folha = 20. Certifique-se de que você esteja utilizando apenas as 3 variáveis indicadas no exercício anterior.\n",
        "- 2.2 Calcule os ccp_alphas. Como feito em aula, certifique-se de que todos os valores são positivos, e selecione apenas valores únicos.\n",
        "- 2.3 Considere que vamos fazer uma árvore para cada valor de ```ccp_alpha```. Para ter um pouco mais de velocidade, crie uma coleção de dados com os ```ccp_alphas```, considerando apenas 1 a cada 5 valores. Dica: utilize o slicing do tipo ```array[::5]``` para isto. Caso se sinta seguro, fique à vontade para utilizar mais valores de ```ccp_alpha```."
      ]
    },
    {
      "cell_type": "code",
      "source": [
        "# Definir a árvore de decisão\n",
        "tree = DecisionTreeClassifier(min_samples_leaf=20)\n",
        "\n",
        "# Carregar y_train\n",
        "y_train = pd.read_csv('./txt/y_train.txt', header=None, names=['activity'])\n",
        "\n",
        "# Ajustar a árvore de decisão\n",
        "tree.fit(X_train_selected, y_train)"
      ],
      "metadata": {
        "colab": {
          "base_uri": "https://localhost:8080/",
          "height": 81
        },
        "id": "pupPrJScicc7",
        "outputId": "3b112152-ca03-499e-f63b-e0f1090ee916"
      },
      "execution_count": 9,
      "outputs": [
        {
          "output_type": "execute_result",
          "data": {
            "text/plain": [
              "DecisionTreeClassifier(min_samples_leaf=20)"
            ],
            "text/html": [
              "<style>#sk-container-id-1 {\n",
              "  /* Definition of color scheme common for light and dark mode */\n",
              "  --sklearn-color-text: black;\n",
              "  --sklearn-color-line: gray;\n",
              "  /* Definition of color scheme for unfitted estimators */\n",
              "  --sklearn-color-unfitted-level-0: #fff5e6;\n",
              "  --sklearn-color-unfitted-level-1: #f6e4d2;\n",
              "  --sklearn-color-unfitted-level-2: #ffe0b3;\n",
              "  --sklearn-color-unfitted-level-3: chocolate;\n",
              "  /* Definition of color scheme for fitted estimators */\n",
              "  --sklearn-color-fitted-level-0: #f0f8ff;\n",
              "  --sklearn-color-fitted-level-1: #d4ebff;\n",
              "  --sklearn-color-fitted-level-2: #b3dbfd;\n",
              "  --sklearn-color-fitted-level-3: cornflowerblue;\n",
              "\n",
              "  /* Specific color for light theme */\n",
              "  --sklearn-color-text-on-default-background: var(--sg-text-color, var(--theme-code-foreground, var(--jp-content-font-color1, black)));\n",
              "  --sklearn-color-background: var(--sg-background-color, var(--theme-background, var(--jp-layout-color0, white)));\n",
              "  --sklearn-color-border-box: var(--sg-text-color, var(--theme-code-foreground, var(--jp-content-font-color1, black)));\n",
              "  --sklearn-color-icon: #696969;\n",
              "\n",
              "  @media (prefers-color-scheme: dark) {\n",
              "    /* Redefinition of color scheme for dark theme */\n",
              "    --sklearn-color-text-on-default-background: var(--sg-text-color, var(--theme-code-foreground, var(--jp-content-font-color1, white)));\n",
              "    --sklearn-color-background: var(--sg-background-color, var(--theme-background, var(--jp-layout-color0, #111)));\n",
              "    --sklearn-color-border-box: var(--sg-text-color, var(--theme-code-foreground, var(--jp-content-font-color1, white)));\n",
              "    --sklearn-color-icon: #878787;\n",
              "  }\n",
              "}\n",
              "\n",
              "#sk-container-id-1 {\n",
              "  color: var(--sklearn-color-text);\n",
              "}\n",
              "\n",
              "#sk-container-id-1 pre {\n",
              "  padding: 0;\n",
              "}\n",
              "\n",
              "#sk-container-id-1 input.sk-hidden--visually {\n",
              "  border: 0;\n",
              "  clip: rect(1px 1px 1px 1px);\n",
              "  clip: rect(1px, 1px, 1px, 1px);\n",
              "  height: 1px;\n",
              "  margin: -1px;\n",
              "  overflow: hidden;\n",
              "  padding: 0;\n",
              "  position: absolute;\n",
              "  width: 1px;\n",
              "}\n",
              "\n",
              "#sk-container-id-1 div.sk-dashed-wrapped {\n",
              "  border: 1px dashed var(--sklearn-color-line);\n",
              "  margin: 0 0.4em 0.5em 0.4em;\n",
              "  box-sizing: border-box;\n",
              "  padding-bottom: 0.4em;\n",
              "  background-color: var(--sklearn-color-background);\n",
              "}\n",
              "\n",
              "#sk-container-id-1 div.sk-container {\n",
              "  /* jupyter's `normalize.less` sets `[hidden] { display: none; }`\n",
              "     but bootstrap.min.css set `[hidden] { display: none !important; }`\n",
              "     so we also need the `!important` here to be able to override the\n",
              "     default hidden behavior on the sphinx rendered scikit-learn.org.\n",
              "     See: https://github.com/scikit-learn/scikit-learn/issues/21755 */\n",
              "  display: inline-block !important;\n",
              "  position: relative;\n",
              "}\n",
              "\n",
              "#sk-container-id-1 div.sk-text-repr-fallback {\n",
              "  display: none;\n",
              "}\n",
              "\n",
              "div.sk-parallel-item,\n",
              "div.sk-serial,\n",
              "div.sk-item {\n",
              "  /* draw centered vertical line to link estimators */\n",
              "  background-image: linear-gradient(var(--sklearn-color-text-on-default-background), var(--sklearn-color-text-on-default-background));\n",
              "  background-size: 2px 100%;\n",
              "  background-repeat: no-repeat;\n",
              "  background-position: center center;\n",
              "}\n",
              "\n",
              "/* Parallel-specific style estimator block */\n",
              "\n",
              "#sk-container-id-1 div.sk-parallel-item::after {\n",
              "  content: \"\";\n",
              "  width: 100%;\n",
              "  border-bottom: 2px solid var(--sklearn-color-text-on-default-background);\n",
              "  flex-grow: 1;\n",
              "}\n",
              "\n",
              "#sk-container-id-1 div.sk-parallel {\n",
              "  display: flex;\n",
              "  align-items: stretch;\n",
              "  justify-content: center;\n",
              "  background-color: var(--sklearn-color-background);\n",
              "  position: relative;\n",
              "}\n",
              "\n",
              "#sk-container-id-1 div.sk-parallel-item {\n",
              "  display: flex;\n",
              "  flex-direction: column;\n",
              "}\n",
              "\n",
              "#sk-container-id-1 div.sk-parallel-item:first-child::after {\n",
              "  align-self: flex-end;\n",
              "  width: 50%;\n",
              "}\n",
              "\n",
              "#sk-container-id-1 div.sk-parallel-item:last-child::after {\n",
              "  align-self: flex-start;\n",
              "  width: 50%;\n",
              "}\n",
              "\n",
              "#sk-container-id-1 div.sk-parallel-item:only-child::after {\n",
              "  width: 0;\n",
              "}\n",
              "\n",
              "/* Serial-specific style estimator block */\n",
              "\n",
              "#sk-container-id-1 div.sk-serial {\n",
              "  display: flex;\n",
              "  flex-direction: column;\n",
              "  align-items: center;\n",
              "  background-color: var(--sklearn-color-background);\n",
              "  padding-right: 1em;\n",
              "  padding-left: 1em;\n",
              "}\n",
              "\n",
              "\n",
              "/* Toggleable style: style used for estimator/Pipeline/ColumnTransformer box that is\n",
              "clickable and can be expanded/collapsed.\n",
              "- Pipeline and ColumnTransformer use this feature and define the default style\n",
              "- Estimators will overwrite some part of the style using the `sk-estimator` class\n",
              "*/\n",
              "\n",
              "/* Pipeline and ColumnTransformer style (default) */\n",
              "\n",
              "#sk-container-id-1 div.sk-toggleable {\n",
              "  /* Default theme specific background. It is overwritten whether we have a\n",
              "  specific estimator or a Pipeline/ColumnTransformer */\n",
              "  background-color: var(--sklearn-color-background);\n",
              "}\n",
              "\n",
              "/* Toggleable label */\n",
              "#sk-container-id-1 label.sk-toggleable__label {\n",
              "  cursor: pointer;\n",
              "  display: block;\n",
              "  width: 100%;\n",
              "  margin-bottom: 0;\n",
              "  padding: 0.5em;\n",
              "  box-sizing: border-box;\n",
              "  text-align: center;\n",
              "}\n",
              "\n",
              "#sk-container-id-1 label.sk-toggleable__label-arrow:before {\n",
              "  /* Arrow on the left of the label */\n",
              "  content: \"▸\";\n",
              "  float: left;\n",
              "  margin-right: 0.25em;\n",
              "  color: var(--sklearn-color-icon);\n",
              "}\n",
              "\n",
              "#sk-container-id-1 label.sk-toggleable__label-arrow:hover:before {\n",
              "  color: var(--sklearn-color-text);\n",
              "}\n",
              "\n",
              "/* Toggleable content - dropdown */\n",
              "\n",
              "#sk-container-id-1 div.sk-toggleable__content {\n",
              "  max-height: 0;\n",
              "  max-width: 0;\n",
              "  overflow: hidden;\n",
              "  text-align: left;\n",
              "  /* unfitted */\n",
              "  background-color: var(--sklearn-color-unfitted-level-0);\n",
              "}\n",
              "\n",
              "#sk-container-id-1 div.sk-toggleable__content.fitted {\n",
              "  /* fitted */\n",
              "  background-color: var(--sklearn-color-fitted-level-0);\n",
              "}\n",
              "\n",
              "#sk-container-id-1 div.sk-toggleable__content pre {\n",
              "  margin: 0.2em;\n",
              "  border-radius: 0.25em;\n",
              "  color: var(--sklearn-color-text);\n",
              "  /* unfitted */\n",
              "  background-color: var(--sklearn-color-unfitted-level-0);\n",
              "}\n",
              "\n",
              "#sk-container-id-1 div.sk-toggleable__content.fitted pre {\n",
              "  /* unfitted */\n",
              "  background-color: var(--sklearn-color-fitted-level-0);\n",
              "}\n",
              "\n",
              "#sk-container-id-1 input.sk-toggleable__control:checked~div.sk-toggleable__content {\n",
              "  /* Expand drop-down */\n",
              "  max-height: 200px;\n",
              "  max-width: 100%;\n",
              "  overflow: auto;\n",
              "}\n",
              "\n",
              "#sk-container-id-1 input.sk-toggleable__control:checked~label.sk-toggleable__label-arrow:before {\n",
              "  content: \"▾\";\n",
              "}\n",
              "\n",
              "/* Pipeline/ColumnTransformer-specific style */\n",
              "\n",
              "#sk-container-id-1 div.sk-label input.sk-toggleable__control:checked~label.sk-toggleable__label {\n",
              "  color: var(--sklearn-color-text);\n",
              "  background-color: var(--sklearn-color-unfitted-level-2);\n",
              "}\n",
              "\n",
              "#sk-container-id-1 div.sk-label.fitted input.sk-toggleable__control:checked~label.sk-toggleable__label {\n",
              "  background-color: var(--sklearn-color-fitted-level-2);\n",
              "}\n",
              "\n",
              "/* Estimator-specific style */\n",
              "\n",
              "/* Colorize estimator box */\n",
              "#sk-container-id-1 div.sk-estimator input.sk-toggleable__control:checked~label.sk-toggleable__label {\n",
              "  /* unfitted */\n",
              "  background-color: var(--sklearn-color-unfitted-level-2);\n",
              "}\n",
              "\n",
              "#sk-container-id-1 div.sk-estimator.fitted input.sk-toggleable__control:checked~label.sk-toggleable__label {\n",
              "  /* fitted */\n",
              "  background-color: var(--sklearn-color-fitted-level-2);\n",
              "}\n",
              "\n",
              "#sk-container-id-1 div.sk-label label.sk-toggleable__label,\n",
              "#sk-container-id-1 div.sk-label label {\n",
              "  /* The background is the default theme color */\n",
              "  color: var(--sklearn-color-text-on-default-background);\n",
              "}\n",
              "\n",
              "/* On hover, darken the color of the background */\n",
              "#sk-container-id-1 div.sk-label:hover label.sk-toggleable__label {\n",
              "  color: var(--sklearn-color-text);\n",
              "  background-color: var(--sklearn-color-unfitted-level-2);\n",
              "}\n",
              "\n",
              "/* Label box, darken color on hover, fitted */\n",
              "#sk-container-id-1 div.sk-label.fitted:hover label.sk-toggleable__label.fitted {\n",
              "  color: var(--sklearn-color-text);\n",
              "  background-color: var(--sklearn-color-fitted-level-2);\n",
              "}\n",
              "\n",
              "/* Estimator label */\n",
              "\n",
              "#sk-container-id-1 div.sk-label label {\n",
              "  font-family: monospace;\n",
              "  font-weight: bold;\n",
              "  display: inline-block;\n",
              "  line-height: 1.2em;\n",
              "}\n",
              "\n",
              "#sk-container-id-1 div.sk-label-container {\n",
              "  text-align: center;\n",
              "}\n",
              "\n",
              "/* Estimator-specific */\n",
              "#sk-container-id-1 div.sk-estimator {\n",
              "  font-family: monospace;\n",
              "  border: 1px dotted var(--sklearn-color-border-box);\n",
              "  border-radius: 0.25em;\n",
              "  box-sizing: border-box;\n",
              "  margin-bottom: 0.5em;\n",
              "  /* unfitted */\n",
              "  background-color: var(--sklearn-color-unfitted-level-0);\n",
              "}\n",
              "\n",
              "#sk-container-id-1 div.sk-estimator.fitted {\n",
              "  /* fitted */\n",
              "  background-color: var(--sklearn-color-fitted-level-0);\n",
              "}\n",
              "\n",
              "/* on hover */\n",
              "#sk-container-id-1 div.sk-estimator:hover {\n",
              "  /* unfitted */\n",
              "  background-color: var(--sklearn-color-unfitted-level-2);\n",
              "}\n",
              "\n",
              "#sk-container-id-1 div.sk-estimator.fitted:hover {\n",
              "  /* fitted */\n",
              "  background-color: var(--sklearn-color-fitted-level-2);\n",
              "}\n",
              "\n",
              "/* Specification for estimator info (e.g. \"i\" and \"?\") */\n",
              "\n",
              "/* Common style for \"i\" and \"?\" */\n",
              "\n",
              ".sk-estimator-doc-link,\n",
              "a:link.sk-estimator-doc-link,\n",
              "a:visited.sk-estimator-doc-link {\n",
              "  float: right;\n",
              "  font-size: smaller;\n",
              "  line-height: 1em;\n",
              "  font-family: monospace;\n",
              "  background-color: var(--sklearn-color-background);\n",
              "  border-radius: 1em;\n",
              "  height: 1em;\n",
              "  width: 1em;\n",
              "  text-decoration: none !important;\n",
              "  margin-left: 1ex;\n",
              "  /* unfitted */\n",
              "  border: var(--sklearn-color-unfitted-level-1) 1pt solid;\n",
              "  color: var(--sklearn-color-unfitted-level-1);\n",
              "}\n",
              "\n",
              ".sk-estimator-doc-link.fitted,\n",
              "a:link.sk-estimator-doc-link.fitted,\n",
              "a:visited.sk-estimator-doc-link.fitted {\n",
              "  /* fitted */\n",
              "  border: var(--sklearn-color-fitted-level-1) 1pt solid;\n",
              "  color: var(--sklearn-color-fitted-level-1);\n",
              "}\n",
              "\n",
              "/* On hover */\n",
              "div.sk-estimator:hover .sk-estimator-doc-link:hover,\n",
              ".sk-estimator-doc-link:hover,\n",
              "div.sk-label-container:hover .sk-estimator-doc-link:hover,\n",
              ".sk-estimator-doc-link:hover {\n",
              "  /* unfitted */\n",
              "  background-color: var(--sklearn-color-unfitted-level-3);\n",
              "  color: var(--sklearn-color-background);\n",
              "  text-decoration: none;\n",
              "}\n",
              "\n",
              "div.sk-estimator.fitted:hover .sk-estimator-doc-link.fitted:hover,\n",
              ".sk-estimator-doc-link.fitted:hover,\n",
              "div.sk-label-container:hover .sk-estimator-doc-link.fitted:hover,\n",
              ".sk-estimator-doc-link.fitted:hover {\n",
              "  /* fitted */\n",
              "  background-color: var(--sklearn-color-fitted-level-3);\n",
              "  color: var(--sklearn-color-background);\n",
              "  text-decoration: none;\n",
              "}\n",
              "\n",
              "/* Span, style for the box shown on hovering the info icon */\n",
              ".sk-estimator-doc-link span {\n",
              "  display: none;\n",
              "  z-index: 9999;\n",
              "  position: relative;\n",
              "  font-weight: normal;\n",
              "  right: .2ex;\n",
              "  padding: .5ex;\n",
              "  margin: .5ex;\n",
              "  width: min-content;\n",
              "  min-width: 20ex;\n",
              "  max-width: 50ex;\n",
              "  color: var(--sklearn-color-text);\n",
              "  box-shadow: 2pt 2pt 4pt #999;\n",
              "  /* unfitted */\n",
              "  background: var(--sklearn-color-unfitted-level-0);\n",
              "  border: .5pt solid var(--sklearn-color-unfitted-level-3);\n",
              "}\n",
              "\n",
              ".sk-estimator-doc-link.fitted span {\n",
              "  /* fitted */\n",
              "  background: var(--sklearn-color-fitted-level-0);\n",
              "  border: var(--sklearn-color-fitted-level-3);\n",
              "}\n",
              "\n",
              ".sk-estimator-doc-link:hover span {\n",
              "  display: block;\n",
              "}\n",
              "\n",
              "/* \"?\"-specific style due to the `<a>` HTML tag */\n",
              "\n",
              "#sk-container-id-1 a.estimator_doc_link {\n",
              "  float: right;\n",
              "  font-size: 1rem;\n",
              "  line-height: 1em;\n",
              "  font-family: monospace;\n",
              "  background-color: var(--sklearn-color-background);\n",
              "  border-radius: 1rem;\n",
              "  height: 1rem;\n",
              "  width: 1rem;\n",
              "  text-decoration: none;\n",
              "  /* unfitted */\n",
              "  color: var(--sklearn-color-unfitted-level-1);\n",
              "  border: var(--sklearn-color-unfitted-level-1) 1pt solid;\n",
              "}\n",
              "\n",
              "#sk-container-id-1 a.estimator_doc_link.fitted {\n",
              "  /* fitted */\n",
              "  border: var(--sklearn-color-fitted-level-1) 1pt solid;\n",
              "  color: var(--sklearn-color-fitted-level-1);\n",
              "}\n",
              "\n",
              "/* On hover */\n",
              "#sk-container-id-1 a.estimator_doc_link:hover {\n",
              "  /* unfitted */\n",
              "  background-color: var(--sklearn-color-unfitted-level-3);\n",
              "  color: var(--sklearn-color-background);\n",
              "  text-decoration: none;\n",
              "}\n",
              "\n",
              "#sk-container-id-1 a.estimator_doc_link.fitted:hover {\n",
              "  /* fitted */\n",
              "  background-color: var(--sklearn-color-fitted-level-3);\n",
              "}\n",
              "</style><div id=\"sk-container-id-1\" class=\"sk-top-container\"><div class=\"sk-text-repr-fallback\"><pre>DecisionTreeClassifier(min_samples_leaf=20)</pre><b>In a Jupyter environment, please rerun this cell to show the HTML representation or trust the notebook. <br />On GitHub, the HTML representation is unable to render, please try loading this page with nbviewer.org.</b></div><div class=\"sk-container\" hidden><div class=\"sk-item\"><div class=\"sk-estimator fitted sk-toggleable\"><input class=\"sk-toggleable__control sk-hidden--visually\" id=\"sk-estimator-id-1\" type=\"checkbox\" checked><label for=\"sk-estimator-id-1\" class=\"sk-toggleable__label fitted sk-toggleable__label-arrow fitted\">&nbsp;&nbsp;DecisionTreeClassifier<a class=\"sk-estimator-doc-link fitted\" rel=\"noreferrer\" target=\"_blank\" href=\"https://scikit-learn.org/1.5/modules/generated/sklearn.tree.DecisionTreeClassifier.html\">?<span>Documentation for DecisionTreeClassifier</span></a><span class=\"sk-estimator-doc-link fitted\">i<span>Fitted</span></span></label><div class=\"sk-toggleable__content fitted\"><pre>DecisionTreeClassifier(min_samples_leaf=20)</pre></div> </div></div></div></div>"
            ]
          },
          "metadata": {},
          "execution_count": 9
        }
      ]
    },
    {
      "cell_type": "code",
      "execution_count": 10,
      "metadata": {
        "colab": {
          "base_uri": "https://localhost:8080/"
        },
        "id": "3AvLE-9zgJFy",
        "outputId": "1d797278-fc0a-4575-8e00-76e8ba6c3f72"
      },
      "outputs": [
        {
          "output_type": "stream",
          "name": "stdout",
          "text": [
            "CPU times: user 53 ms, sys: 0 ns, total: 53 ms\n",
            "Wall time: 192 ms\n"
          ]
        }
      ],
      "source": [
        "%%time\n",
        "# Poda de custo-complexidade (CCP)\n",
        "path = tree.cost_complexity_pruning_path(X_train_selected, y_train)\n",
        "ccp_alphas = path.ccp_alphas\n",
        "ccp_alphas_unique = pd.unique(ccp_alphas[ccp_alphas > 0])  # Filtrar valores positivos e únicos\n",
        "\n",
        "ccp_alphas_subset = ccp_alphas_unique[::5]  # Selecionar 1 a cada 5 valores"
      ]
    },
    {
      "cell_type": "markdown",
      "metadata": {
        "id": "07b8Kf5OgJFz"
      },
      "source": [
        "### 3. Desempenho da árvore por ccp_alpha\n",
        "\n",
        "- 3.1: Rode uma árvore para cada ```ccp_alpha```, salvando cada árvore em uma lista\n",
        "- 3.2: Calcule a acurácia de cada árvore na base de treinamento e de teste\n",
        "- 3.3: Monte um gráfico da acurácia em função do ```ccp_alpha``` na base de validação e na base de teste\n",
        "- 3.4: Selecione a melhor árvore como sendo aquela que possui melhor acurácia na base de teste\n",
        "- 3.5: Qual a melhor acurácia que se pode obter com estas três variáveis?\n",
        "\n",
        "**Dica:** utilize a estrutura do notebook apresentado em aula.  \n",
        "**Dica 2:** meça o tempo com a função mágica ```%%time``` na primeira linha da célula.  \n",
        "**Sugestão:** caso fique confortável com o tempo de execução, faça a busca pelo melhor ```ccp_alpha``` com mais iterações.  \n",
        "**Sugestão 2:** caso fique confortável com o tempo de execução, tente inserir uma ou mais variáveis adicionais e veja se consegue aumentar a acurácia."
      ]
    },
    {
      "cell_type": "code",
      "execution_count": 11,
      "metadata": {
        "colab": {
          "base_uri": "https://localhost:8080/"
        },
        "id": "6NbcU1x_gJFz",
        "outputId": "f37ef902-5da6-49ab-bb69-d6bab96a5e1b"
      },
      "outputs": [
        {
          "output_type": "stream",
          "name": "stdout",
          "text": [
            "CPU times: user 2.3 s, sys: 4.82 ms, total: 2.3 s\n",
            "Wall time: 2.45 s\n"
          ]
        }
      ],
      "source": [
        "# 3.1\n",
        "\n",
        "%%time\n",
        "trees = []\n",
        "for alpha in ccp_alphas_subset:\n",
        "    tree = DecisionTreeClassifier(ccp_alpha=alpha, min_samples_leaf=20)\n",
        "    tree.fit(X_train_selected, y_train)\n",
        "    trees.append(tree)"
      ]
    },
    {
      "cell_type": "code",
      "source": [
        "# Carregar y_test\n",
        "y_test = pd.read_csv('./txt/y_test.txt', header=None, names=['activity'])\n",
        "\n",
        "\n",
        "#3.2\n",
        "\n",
        "accuracies_train = [accuracy_score(y_train, tree.predict(X_train_selected)) for tree in trees]\n",
        "accuracies_test = [accuracy_score(y_test, tree.predict(X_test_selected)) for tree in trees]"
      ],
      "metadata": {
        "id": "xrWWI16RjVW7"
      },
      "execution_count": 12,
      "outputs": []
    },
    {
      "cell_type": "code",
      "source": [
        "#3.3\n",
        "\n",
        "plt.figure(figsize=(10, 6))\n",
        "plt.plot(ccp_alphas_subset, accuracies_train, label=\"Train Accuracy\", marker='o')\n",
        "plt.plot(ccp_alphas_subset, accuracies_test, label=\"Test Accuracy\", marker='o')\n",
        "plt.xlabel('ccp_alpha')\n",
        "plt.ylabel('Accuracy')\n",
        "plt.legend()\n",
        "plt.show()"
      ],
      "metadata": {
        "colab": {
          "base_uri": "https://localhost:8080/",
          "height": 542
        },
        "id": "3nsYHzIZjXm7",
        "outputId": "1158da3e-c1e0-42b8-c82f-c812c0c11605"
      },
      "execution_count": 13,
      "outputs": [
        {
          "output_type": "display_data",
          "data": {
            "text/plain": [
              "<Figure size 1000x600 with 1 Axes>"
            ],
            "image/png": "[encoded data removed]"
          },
          "metadata": {}
        }
      ]
    },
    {
      "cell_type": "code",
      "source": [
        "best_index = accuracies_test.index(max(accuracies_test))\n",
        "best_tree = trees[best_index]\n",
        "best_accuracy = max(accuracies_test)\n",
        "print(f\"Melhor acurácia: {best_accuracy}\")"
      ],
      "metadata": {
        "colab": {
          "base_uri": "https://localhost:8080/"
        },
        "id": "GALpiKLijbCU",
        "outputId": "2d633b7d-ad48-48ac-98da-dc5f44953c5d"
      },
      "execution_count": 14,
      "outputs": [
        {
          "output_type": "stream",
          "name": "stdout",
          "text": [
            "Melhor acurácia: 0.44859178825924667\n"
          ]
        }
      ]
    },
    {
      "cell_type": "code",
      "source": [
        "# Adicionar variáveis extras ('tBodyAcc-std()-X', 'tBodyAcc-std()-Y')\n",
        "X_train_selected_extra = X_train[['tBodyAcc-mean()-X', 'tBodyAcc-mean()-Y', 'tBodyAcc-mean()-Z', 'tBodyAcc-std()-X', 'tBodyAcc-std()-Y']]\n",
        "X_test_selected_extra = X_test[['tBodyAcc-mean()-X', 'tBodyAcc-mean()-Y', 'tBodyAcc-mean()-Z', 'tBodyAcc-std()-X', 'tBodyAcc-std()-Y']]\n",
        "\n",
        "# Ajustar a árvore de decisão com variáveis extras\n",
        "tree_extra = DecisionTreeClassifier(min_samples_leaf=20)\n",
        "tree_extra.fit(X_train_selected_extra, y_train)\n",
        "\n",
        "# Calcular o caminho de poda (ccp_alphas) para variáveis extras\n",
        "path_extra = tree_extra.cost_complexity_pruning_path(X_train_selected_extra, y_train)\n",
        "ccp_alphas_extra = path_extra.ccp_alphas\n",
        "ccp_alphas_unique_extra = pd.unique(ccp_alphas_extra[ccp_alphas_extra > 0])\n",
        "ccp_alphas_subset_extra = ccp_alphas_unique_extra[::5]\n",
        "\n",
        "# Rodar uma árvore para cada ccp_alpha com variáveis extras\n",
        "trees_extra = []\n",
        "for alpha in ccp_alphas_subset_extra:\n",
        "    tree = DecisionTreeClassifier(ccp_alpha=alpha, min_samples_leaf=20)\n",
        "    tree.fit(X_train_selected_extra, y_train)\n",
        "    trees_extra.append(tree)\n",
        "\n",
        "# Calcular a acurácia para cada árvore com variáveis extras\n",
        "accuracies_train_extra = [accuracy_score(y_train, tree.predict(X_train_selected_extra)) for tree in trees_extra]\n",
        "accuracies_test_extra = [accuracy_score(y_test, tree.predict(X_test_selected_extra)) for tree in trees_extra]\n",
        "\n",
        "\n",
        "# Garantir que ccp_alphas_subset_extra tenha o mesmo tamanho de ccp_alphas_subset\n",
        "min_length = min(len(ccp_alphas_subset), len(ccp_alphas_subset_extra))\n",
        "ccp_alphas_subset = ccp_alphas_subset[:min_length]\n",
        "ccp_alphas_subset_extra = ccp_alphas_subset_extra[:min_length]\n",
        "\n",
        "# Garantir que as listas de acurácias também sejam ajustadas para ter o mesmo tamanho\n",
        "accuracies_train = accuracies_train[:min_length]\n",
        "accuracies_test = accuracies_test[:min_length]\n",
        "accuracies_train_extra = accuracies_train_extra[:min_length]\n",
        "accuracies_test_extra = accuracies_test_extra[:min_length]\n",
        "\n",
        "# Plotar o gráfico comparando os dois conjuntos (com e sem variáveis extras)\n",
        "plt.figure(figsize=(10, 6))\n",
        "\n",
        "# Sem variáveis extras\n",
        "plt.plot(ccp_alphas_subset, accuracies_train, label=\"Train Accuracy (Sem Extras)\", marker='o')\n",
        "plt.plot(ccp_alphas_subset, accuracies_test, label=\"Test Accuracy (Sem Extras)\", marker='o')\n",
        "\n",
        "# Com variáveis extras\n",
        "plt.plot(ccp_alphas_subset_extra, accuracies_train_extra, label=\"Train Accuracy (Com Extras)\", marker='x')\n",
        "plt.plot(ccp_alphas_subset_extra, accuracies_test_extra, label=\"Test Accuracy (Com Extras)\", marker='x')\n",
        "\n",
        "plt.xlabel('ccp_alpha')\n",
        "plt.ylabel('Accuracy')\n",
        "plt.title('Accuracy vs ccp_alpha (Com e Sem Variáveis Extras)')\n",
        "plt.legend()\n",
        "plt.show()\n",
        "\n",
        "# Melhor árvore com variáveis extras\n",
        "best_index_extra = accuracies_test_extra.index(max(accuracies_test_extra))\n",
        "print(f\"\\nMelhor árvore com variáveis extras: ccp_alpha={ccp_alphas_subset_extra[best_index_extra]}, acurácia={accuracies_test_extra[best_index_extra]}\")"
      ],
      "metadata": {
        "colab": {
          "base_uri": "https://localhost:8080/",
          "height": 600
        },
        "id": "NeTRSjpwoiaB",
        "outputId": "b98ca391-6621-46b9-ea68-6456942f15d9"
      },
      "execution_count": 15,
      "outputs": [
        {
          "output_type": "display_data",
          "data": {
            "text/plain": [
              "<Figure size 1000x600 with 1 Axes>"
            ],
            "image/png": "[encoded data removed]"
          },
          "metadata": {}
        },
        {
          "output_type": "stream",
          "name": "stdout",
          "text": [
            "\n",
            "Melhor árvore com variáveis extras: ccp_alpha=0.000573683292786592, acurácia=0.6158805564981337\n"
          ]
        }
      ]
    },
    {
      "cell_type": "code",
      "source": [],
      "metadata": {
        "id": "urZz8opTok2B"
      },
      "execution_count": 15,
      "outputs": []
    }
  ],
  "metadata": {
    "kernelspec": {
      "display_name": "Python 3",
      "language": "python",
      "name": "python3"
    },
    "language_info": {
      "codemirror_mode": {
        "name": "ipython",
        "version": 3
      },
      "file_extension": ".py",
      "mimetype": "text/x-python",
      "name": "python",
      "nbconvert_exporter": "python",
      "pygments_lexer": "ipython3",
      "version": "3.8.5"
    },
    "colab": {
      "provenance": []
    }
  },
  "nbformat": 4,
  "nbformat_minor": 0
}